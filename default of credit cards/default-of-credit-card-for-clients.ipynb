{
 "cells": [
  {
   "cell_type": "code",
   "execution_count": 297,
   "metadata": {
    "_cell_guid": "b1076dfc-b9ad-4769-8c92-a6c4dae69d19",
    "_uuid": "8f2839f25d086af736a60e9eeb907d3b93b6e0e5"
   },
   "outputs": [],
   "source": [
    "import pandas as pd\n",
    "import numpy as np\n",
    "import matplotlib.pyplot as plt\n",
    "import seaborn as sns\n",
    "from sklearn.utils import resample\n",
    "from sklearn.model_selection import train_test_split\n",
    "from sklearn.preprocessing import scale\n",
    "from sklearn.svm import SVC\n",
    "from sklearn.metrics import confusion_matrix\n",
    "from sklearn.metrics import plot_confusion_matrix\n",
    "from sklearn.model_selection import GridSearchCV\n",
    "from sklearn.decomposition import PCA"
   ]
  },
  {
   "cell_type": "code",
   "execution_count": 298,
   "metadata": {},
   "outputs": [],
   "source": [
    "df = pd.read_csv('../input/default-of-credit-card-clients-dataset/UCI_Credit_Card.csv')"
   ]
  },
  {
   "cell_type": "code",
   "execution_count": 299,
   "metadata": {},
   "outputs": [
    {
     "data": {
      "text/html": [
       "<div>\n",
       "<style scoped>\n",
       "    .dataframe tbody tr th:only-of-type {\n",
       "        vertical-align: middle;\n",
       "    }\n",
       "\n",
       "    .dataframe tbody tr th {\n",
       "        vertical-align: top;\n",
       "    }\n",
       "\n",
       "    .dataframe thead th {\n",
       "        text-align: right;\n",
       "    }\n",
       "</style>\n",
       "<table border=\"1\" class=\"dataframe\">\n",
       "  <thead>\n",
       "    <tr style=\"text-align: right;\">\n",
       "      <th></th>\n",
       "      <th>ID</th>\n",
       "      <th>LIMIT_BAL</th>\n",
       "      <th>SEX</th>\n",
       "      <th>EDUCATION</th>\n",
       "      <th>MARRIAGE</th>\n",
       "      <th>AGE</th>\n",
       "      <th>PAY_0</th>\n",
       "      <th>PAY_2</th>\n",
       "      <th>PAY_3</th>\n",
       "      <th>PAY_4</th>\n",
       "      <th>...</th>\n",
       "      <th>BILL_AMT4</th>\n",
       "      <th>BILL_AMT5</th>\n",
       "      <th>BILL_AMT6</th>\n",
       "      <th>PAY_AMT1</th>\n",
       "      <th>PAY_AMT2</th>\n",
       "      <th>PAY_AMT3</th>\n",
       "      <th>PAY_AMT4</th>\n",
       "      <th>PAY_AMT5</th>\n",
       "      <th>PAY_AMT6</th>\n",
       "      <th>default.payment.next.month</th>\n",
       "    </tr>\n",
       "  </thead>\n",
       "  <tbody>\n",
       "    <tr>\n",
       "      <th>0</th>\n",
       "      <td>1</td>\n",
       "      <td>20000.0</td>\n",
       "      <td>2</td>\n",
       "      <td>2</td>\n",
       "      <td>1</td>\n",
       "      <td>24</td>\n",
       "      <td>2</td>\n",
       "      <td>2</td>\n",
       "      <td>-1</td>\n",
       "      <td>-1</td>\n",
       "      <td>...</td>\n",
       "      <td>0.0</td>\n",
       "      <td>0.0</td>\n",
       "      <td>0.0</td>\n",
       "      <td>0.0</td>\n",
       "      <td>689.0</td>\n",
       "      <td>0.0</td>\n",
       "      <td>0.0</td>\n",
       "      <td>0.0</td>\n",
       "      <td>0.0</td>\n",
       "      <td>1</td>\n",
       "    </tr>\n",
       "    <tr>\n",
       "      <th>1</th>\n",
       "      <td>2</td>\n",
       "      <td>120000.0</td>\n",
       "      <td>2</td>\n",
       "      <td>2</td>\n",
       "      <td>2</td>\n",
       "      <td>26</td>\n",
       "      <td>-1</td>\n",
       "      <td>2</td>\n",
       "      <td>0</td>\n",
       "      <td>0</td>\n",
       "      <td>...</td>\n",
       "      <td>3272.0</td>\n",
       "      <td>3455.0</td>\n",
       "      <td>3261.0</td>\n",
       "      <td>0.0</td>\n",
       "      <td>1000.0</td>\n",
       "      <td>1000.0</td>\n",
       "      <td>1000.0</td>\n",
       "      <td>0.0</td>\n",
       "      <td>2000.0</td>\n",
       "      <td>1</td>\n",
       "    </tr>\n",
       "    <tr>\n",
       "      <th>2</th>\n",
       "      <td>3</td>\n",
       "      <td>90000.0</td>\n",
       "      <td>2</td>\n",
       "      <td>2</td>\n",
       "      <td>2</td>\n",
       "      <td>34</td>\n",
       "      <td>0</td>\n",
       "      <td>0</td>\n",
       "      <td>0</td>\n",
       "      <td>0</td>\n",
       "      <td>...</td>\n",
       "      <td>14331.0</td>\n",
       "      <td>14948.0</td>\n",
       "      <td>15549.0</td>\n",
       "      <td>1518.0</td>\n",
       "      <td>1500.0</td>\n",
       "      <td>1000.0</td>\n",
       "      <td>1000.0</td>\n",
       "      <td>1000.0</td>\n",
       "      <td>5000.0</td>\n",
       "      <td>0</td>\n",
       "    </tr>\n",
       "    <tr>\n",
       "      <th>3</th>\n",
       "      <td>4</td>\n",
       "      <td>50000.0</td>\n",
       "      <td>2</td>\n",
       "      <td>2</td>\n",
       "      <td>1</td>\n",
       "      <td>37</td>\n",
       "      <td>0</td>\n",
       "      <td>0</td>\n",
       "      <td>0</td>\n",
       "      <td>0</td>\n",
       "      <td>...</td>\n",
       "      <td>28314.0</td>\n",
       "      <td>28959.0</td>\n",
       "      <td>29547.0</td>\n",
       "      <td>2000.0</td>\n",
       "      <td>2019.0</td>\n",
       "      <td>1200.0</td>\n",
       "      <td>1100.0</td>\n",
       "      <td>1069.0</td>\n",
       "      <td>1000.0</td>\n",
       "      <td>0</td>\n",
       "    </tr>\n",
       "    <tr>\n",
       "      <th>4</th>\n",
       "      <td>5</td>\n",
       "      <td>50000.0</td>\n",
       "      <td>1</td>\n",
       "      <td>2</td>\n",
       "      <td>1</td>\n",
       "      <td>57</td>\n",
       "      <td>-1</td>\n",
       "      <td>0</td>\n",
       "      <td>-1</td>\n",
       "      <td>0</td>\n",
       "      <td>...</td>\n",
       "      <td>20940.0</td>\n",
       "      <td>19146.0</td>\n",
       "      <td>19131.0</td>\n",
       "      <td>2000.0</td>\n",
       "      <td>36681.0</td>\n",
       "      <td>10000.0</td>\n",
       "      <td>9000.0</td>\n",
       "      <td>689.0</td>\n",
       "      <td>679.0</td>\n",
       "      <td>0</td>\n",
       "    </tr>\n",
       "  </tbody>\n",
       "</table>\n",
       "<p>5 rows × 25 columns</p>\n",
       "</div>"
      ],
      "text/plain": [
       "   ID  LIMIT_BAL  SEX  EDUCATION  MARRIAGE  AGE  PAY_0  PAY_2  PAY_3  PAY_4  \\\n",
       "0   1    20000.0    2          2         1   24      2      2     -1     -1   \n",
       "1   2   120000.0    2          2         2   26     -1      2      0      0   \n",
       "2   3    90000.0    2          2         2   34      0      0      0      0   \n",
       "3   4    50000.0    2          2         1   37      0      0      0      0   \n",
       "4   5    50000.0    1          2         1   57     -1      0     -1      0   \n",
       "\n",
       "   ...  BILL_AMT4  BILL_AMT5  BILL_AMT6  PAY_AMT1  PAY_AMT2  PAY_AMT3  \\\n",
       "0  ...        0.0        0.0        0.0       0.0     689.0       0.0   \n",
       "1  ...     3272.0     3455.0     3261.0       0.0    1000.0    1000.0   \n",
       "2  ...    14331.0    14948.0    15549.0    1518.0    1500.0    1000.0   \n",
       "3  ...    28314.0    28959.0    29547.0    2000.0    2019.0    1200.0   \n",
       "4  ...    20940.0    19146.0    19131.0    2000.0   36681.0   10000.0   \n",
       "\n",
       "   PAY_AMT4  PAY_AMT5  PAY_AMT6  default.payment.next.month  \n",
       "0       0.0       0.0       0.0                           1  \n",
       "1    1000.0       0.0    2000.0                           1  \n",
       "2    1000.0    1000.0    5000.0                           0  \n",
       "3    1100.0    1069.0    1000.0                           0  \n",
       "4    9000.0     689.0     679.0                           0  \n",
       "\n",
       "[5 rows x 25 columns]"
      ]
     },
     "execution_count": 299,
     "metadata": {},
     "output_type": "execute_result"
    }
   ],
   "source": [
    "df.head()"
   ]
  },
  {
   "cell_type": "markdown",
   "metadata": {},
   "source": [
    "## This research employed a binary variable, default payment (Yes = 1, No = 0), as the response variable. This study reviewed the literature and used the following 23 variables as explanatory variables:"
   ]
  },
  {
   "cell_type": "markdown",
   "metadata": {},
   "source": [
    "### X1: Amount of the given credit (NT dollar): it includes both the individual consumer credit and his/her family (supplementary) credit.\n",
    "\n",
    "### X2: Gender (1 = male; 2 = female)\n",
    "\n",
    "### X3: Education (1 = graduate school; 2 = university; 3 = high school; 4 = others)\n",
    "\n",
    "### X4: Marital status (1 = married; 2 = single; 3 = others)\n",
    "\n",
    "### X5: Age (year)\n",
    "\n",
    "### X6 - X11: History of past payment. We tracked the past monthly payment records (from April to September, 2005) as follows: X6 = the repayment status in September, 2005; X7 = the repayment status in August, 2005; . . .;X11 = the repayment status in April, 2005. The measurement scale for the repayment status is: -1 = pay duly; 1 = payment delay for one month; 2 = payment delay for two months; . . .; 8 = payment delay for eight months; 9 = payment delay for nine months and above\n",
    "\n",
    "### X12-X17: Amount of bill statement (NT dollar). X12 = amount of bill statement in September, 2005; X13 = amount of bill statement in August, 2005; . . .; X17 = amount of bill statement in April, 2005\n",
    "\n",
    "### X18-X23: Amount of previous payment (NT dollar). X18 = amount paid in September, 2005; X19 = amount paid in August, 2005; . . .;X23 = amount paid in April, 2005"
   ]
  },
  {
   "cell_type": "code",
   "execution_count": 300,
   "metadata": {},
   "outputs": [
    {
     "data": {
      "text/plain": [
       "(30000, 25)"
      ]
     },
     "execution_count": 300,
     "metadata": {},
     "output_type": "execute_result"
    }
   ],
   "source": [
    "df.shape"
   ]
  },
  {
   "cell_type": "code",
   "execution_count": 301,
   "metadata": {},
   "outputs": [
    {
     "name": "stdout",
     "output_type": "stream",
     "text": [
      "<class 'pandas.core.frame.DataFrame'>\n",
      "RangeIndex: 30000 entries, 0 to 29999\n",
      "Data columns (total 25 columns):\n",
      " #   Column                      Non-Null Count  Dtype  \n",
      "---  ------                      --------------  -----  \n",
      " 0   ID                          30000 non-null  int64  \n",
      " 1   LIMIT_BAL                   30000 non-null  float64\n",
      " 2   SEX                         30000 non-null  int64  \n",
      " 3   EDUCATION                   30000 non-null  int64  \n",
      " 4   MARRIAGE                    30000 non-null  int64  \n",
      " 5   AGE                         30000 non-null  int64  \n",
      " 6   PAY_0                       30000 non-null  int64  \n",
      " 7   PAY_2                       30000 non-null  int64  \n",
      " 8   PAY_3                       30000 non-null  int64  \n",
      " 9   PAY_4                       30000 non-null  int64  \n",
      " 10  PAY_5                       30000 non-null  int64  \n",
      " 11  PAY_6                       30000 non-null  int64  \n",
      " 12  BILL_AMT1                   30000 non-null  float64\n",
      " 13  BILL_AMT2                   30000 non-null  float64\n",
      " 14  BILL_AMT3                   30000 non-null  float64\n",
      " 15  BILL_AMT4                   30000 non-null  float64\n",
      " 16  BILL_AMT5                   30000 non-null  float64\n",
      " 17  BILL_AMT6                   30000 non-null  float64\n",
      " 18  PAY_AMT1                    30000 non-null  float64\n",
      " 19  PAY_AMT2                    30000 non-null  float64\n",
      " 20  PAY_AMT3                    30000 non-null  float64\n",
      " 21  PAY_AMT4                    30000 non-null  float64\n",
      " 22  PAY_AMT5                    30000 non-null  float64\n",
      " 23  PAY_AMT6                    30000 non-null  float64\n",
      " 24  default.payment.next.month  30000 non-null  int64  \n",
      "dtypes: float64(13), int64(12)\n",
      "memory usage: 5.7 MB\n"
     ]
    }
   ],
   "source": [
    "df.info()"
   ]
  },
  {
   "cell_type": "code",
   "execution_count": 302,
   "metadata": {},
   "outputs": [],
   "source": [
    "df.drop(['ID'], axis=1, inplace=True)"
   ]
  },
  {
   "cell_type": "code",
   "execution_count": 303,
   "metadata": {},
   "outputs": [
    {
     "data": {
      "text/plain": [
       "(30000, 24)"
      ]
     },
     "execution_count": 303,
     "metadata": {},
     "output_type": "execute_result"
    }
   ],
   "source": [
    "df.shape"
   ]
  },
  {
   "cell_type": "code",
   "execution_count": 304,
   "metadata": {},
   "outputs": [],
   "source": [
    "df.rename({'default.payment.next.month':'DEFAULT'}, axis=1, inplace=True)"
   ]
  },
  {
   "cell_type": "code",
   "execution_count": 305,
   "metadata": {},
   "outputs": [
    {
     "data": {
      "text/plain": [
       "Index(['LIMIT_BAL', 'SEX', 'EDUCATION', 'MARRIAGE', 'AGE', 'PAY_0', 'PAY_2',\n",
       "       'PAY_3', 'PAY_4', 'PAY_5', 'PAY_6', 'BILL_AMT1', 'BILL_AMT2',\n",
       "       'BILL_AMT3', 'BILL_AMT4', 'BILL_AMT5', 'BILL_AMT6', 'PAY_AMT1',\n",
       "       'PAY_AMT2', 'PAY_AMT3', 'PAY_AMT4', 'PAY_AMT5', 'PAY_AMT6', 'DEFAULT'],\n",
       "      dtype='object')"
      ]
     },
     "execution_count": 305,
     "metadata": {},
     "output_type": "execute_result"
    }
   ],
   "source": [
    "df.columns"
   ]
  },
  {
   "cell_type": "code",
   "execution_count": 306,
   "metadata": {},
   "outputs": [
    {
     "data": {
      "text/plain": [
       "<AxesSubplot:>"
      ]
     },
     "execution_count": 306,
     "metadata": {},
     "output_type": "execute_result"
    },
    {
     "data": {
      "image/png": "[encoded data removed]",
      "text/plain": [
       "<Figure size 432x288 with 1 Axes>"
      ]
     },
     "metadata": {
      "needs_background": "light"
     },
     "output_type": "display_data"
    }
   ],
   "source": [
    "df['SEX'].value_counts().plot.bar()"
   ]
  },
  {
   "cell_type": "code",
   "execution_count": 307,
   "metadata": {},
   "outputs": [
    {
     "data": {
      "text/plain": [
       "<AxesSubplot:>"
      ]
     },
     "execution_count": 307,
     "metadata": {},
     "output_type": "execute_result"
    },
    {
     "data": {
      "image/png": "[encoded data removed]",
      "text/plain": [
       "<Figure size 432x288 with 1 Axes>"
      ]
     },
     "metadata": {
      "needs_background": "light"
     },
     "output_type": "display_data"
    }
   ],
   "source": [
    "df['EDUCATION'].value_counts().plot.bar()"
   ]
  },
  {
   "cell_type": "markdown",
   "metadata": {},
   "source": [
    "#### for some reason, in addition to the allowed numbers 1,2,3 and 4, \"EDUCATION\" also contains 0,5 and 6. it is possible that 0 represents missing data and 5 and 6 represent categories not mentioned in the specification, but that is just a guess."
   ]
  },
  {
   "cell_type": "code",
   "execution_count": 308,
   "metadata": {},
   "outputs": [
    {
     "data": {
      "text/plain": [
       "<AxesSubplot:>"
      ]
     },
     "execution_count": 308,
     "metadata": {},
     "output_type": "execute_result"
    },
    {
     "data": {
      "image/png": "[encoded data removed]",
      "text/plain": [
       "<Figure size 432x288 with 1 Axes>"
      ]
     },
     "metadata": {
      "needs_background": "light"
     },
     "output_type": "display_data"
    }
   ],
   "source": [
    "df['MARRIAGE'].value_counts().plot.bar()"
   ]
  },
  {
   "cell_type": "code",
   "execution_count": 309,
   "metadata": {},
   "outputs": [
    {
     "data": {
      "text/plain": [
       "2    15964\n",
       "1    13659\n",
       "3      323\n",
       "0       54\n",
       "Name: MARRIAGE, dtype: int64"
      ]
     },
     "execution_count": 309,
     "metadata": {},
     "output_type": "execute_result"
    }
   ],
   "source": [
    "df['MARRIAGE'].value_counts()"
   ]
  },
  {
   "cell_type": "markdown",
   "metadata": {},
   "source": [
    "#### Like EDUCATION, MARRIAGE contains 0, which i'm guessing represents missing data"
   ]
  },
  {
   "cell_type": "markdown",
   "metadata": {},
   "source": [
    "## Now DEALING WITH MISSING DATA(values that has 0 in their categories)"
   ]
  },
  {
   "cell_type": "code",
   "execution_count": 310,
   "metadata": {},
   "outputs": [
    {
     "data": {
      "text/plain": [
       "68"
      ]
     },
     "execution_count": 310,
     "metadata": {},
     "output_type": "execute_result"
    }
   ],
   "source": [
    "len(df.loc[(df['EDUCATION'] == 0) | (df['MARRIAGE'] == 0)])"
   ]
  },
  {
   "cell_type": "markdown",
   "metadata": {},
   "source": [
    "out of 30,000 records 68 records contains missing values that means less than 1% contains missing values,so we can simply remove these records from the dataset."
   ]
  },
  {
   "cell_type": "code",
   "execution_count": 311,
   "metadata": {},
   "outputs": [],
   "source": [
    "df_no_missing = df.loc[(df['EDUCATION'] != 0) & (df['MARRIAGE'] != 0)]"
   ]
  },
  {
   "cell_type": "code",
   "execution_count": 312,
   "metadata": {},
   "outputs": [
    {
     "data": {
      "text/plain": [
       "29932"
      ]
     },
     "execution_count": 312,
     "metadata": {},
     "output_type": "execute_result"
    }
   ],
   "source": [
    "len(df_no_missing)"
   ]
  },
  {
   "cell_type": "code",
   "execution_count": 313,
   "metadata": {},
   "outputs": [
    {
     "data": {
      "text/plain": [
       "array([2, 1, 3, 5, 4, 6])"
      ]
     },
     "execution_count": 313,
     "metadata": {},
     "output_type": "execute_result"
    }
   ],
   "source": [
    "df_no_missing['EDUCATION'].unique()"
   ]
  },
  {
   "cell_type": "code",
   "execution_count": 314,
   "metadata": {},
   "outputs": [
    {
     "data": {
      "text/plain": [
       "array([1, 2, 3])"
      ]
     },
     "execution_count": 314,
     "metadata": {},
     "output_type": "execute_result"
    }
   ],
   "source": [
    "df_no_missing['MARRIAGE'].unique()"
   ]
  },
  {
   "cell_type": "code",
   "execution_count": 315,
   "metadata": {},
   "outputs": [],
   "source": [
    "df_no_default = df_no_missing[df_no_missing['DEFAULT'] == 0]\n",
    "df_default = df_no_missing[df_no_missing['DEFAULT'] == 1]"
   ]
  },
  {
   "cell_type": "code",
   "execution_count": 316,
   "metadata": {},
   "outputs": [
    {
     "data": {
      "text/plain": [
       "5000"
      ]
     },
     "execution_count": 316,
     "metadata": {},
     "output_type": "execute_result"
    }
   ],
   "source": [
    "df_no_default_downsampling = resample(df_no_default,\n",
    "                                     replace=False,\n",
    "                                     n_samples=5000,\n",
    "                                     random_state=8)\n",
    "len(df_no_default_downsampling)"
   ]
  },
  {
   "cell_type": "code",
   "execution_count": 317,
   "metadata": {},
   "outputs": [
    {
     "data": {
      "text/plain": [
       "5000"
      ]
     },
     "execution_count": 317,
     "metadata": {},
     "output_type": "execute_result"
    }
   ],
   "source": [
    "df_default_downsampling = resample(df_default,\n",
    "                                replace=False,\n",
    "                                n_samples=5000,\n",
    "                                random_state=8)\n",
    "len(df_default_downsampling)"
   ]
  },
  {
   "cell_type": "code",
   "execution_count": 318,
   "metadata": {},
   "outputs": [
    {
     "data": {
      "text/plain": [
       "10000"
      ]
     },
     "execution_count": 318,
     "metadata": {},
     "output_type": "execute_result"
    }
   ],
   "source": [
    "data = pd.concat([df_no_default_downsampling, df_default_downsampling])\n",
    "len(data)"
   ]
  },
  {
   "cell_type": "markdown",
   "metadata": {},
   "source": [
    "## Now split the data into independent(X) and dependent(y) variable"
   ]
  },
  {
   "cell_type": "code",
   "execution_count": 319,
   "metadata": {},
   "outputs": [],
   "source": [
    "X = data.drop('DEFAULT', axis=1).copy()\n",
    "y = data['DEFAULT']"
   ]
  },
  {
   "cell_type": "code",
   "execution_count": 320,
   "metadata": {},
   "outputs": [
    {
     "name": "stdout",
     "output_type": "stream",
     "text": [
      "X shape is: (10000, 23)\n",
      "y shape is: (10000,)\n"
     ]
    }
   ],
   "source": [
    "print(\"X shape is:\", X.shape)\n",
    "print(\"y shape is:\", y.shape)"
   ]
  },
  {
   "cell_type": "markdown",
   "metadata": {},
   "source": [
    "## Now doing the one hot encoding for the categorical data using pandas inbuild get_dummies"
   ]
  },
  {
   "cell_type": "code",
   "execution_count": 321,
   "metadata": {},
   "outputs": [],
   "source": [
    "X_encoded = pd.get_dummies(X, columns=['SEX',\n",
    "                                       'EDUCATION',\n",
    "                                       'MARRIAGE',\n",
    "                                       'PAY_0',\n",
    "                                       'PAY_2',\n",
    "                                       'PAY_3',\n",
    "                                       'PAY_4',\n",
    "                                       'PAY_5',\n",
    "                                       'PAY_6'],\n",
    "                                       drop_first=True)"
   ]
  },
  {
   "cell_type": "code",
   "execution_count": 322,
   "metadata": {},
   "outputs": [
    {
     "data": {
      "text/html": [
       "<div>\n",
       "<style scoped>\n",
       "    .dataframe tbody tr th:only-of-type {\n",
       "        vertical-align: middle;\n",
       "    }\n",
       "\n",
       "    .dataframe tbody tr th {\n",
       "        vertical-align: top;\n",
       "    }\n",
       "\n",
       "    .dataframe thead th {\n",
       "        text-align: right;\n",
       "    }\n",
       "</style>\n",
       "<table border=\"1\" class=\"dataframe\">\n",
       "  <thead>\n",
       "    <tr style=\"text-align: right;\">\n",
       "      <th></th>\n",
       "      <th>LIMIT_BAL</th>\n",
       "      <th>AGE</th>\n",
       "      <th>BILL_AMT1</th>\n",
       "      <th>BILL_AMT2</th>\n",
       "      <th>BILL_AMT3</th>\n",
       "      <th>BILL_AMT4</th>\n",
       "      <th>BILL_AMT5</th>\n",
       "      <th>BILL_AMT6</th>\n",
       "      <th>PAY_AMT1</th>\n",
       "      <th>PAY_AMT2</th>\n",
       "      <th>...</th>\n",
       "      <th>PAY_5_8</th>\n",
       "      <th>PAY_6_-1</th>\n",
       "      <th>PAY_6_0</th>\n",
       "      <th>PAY_6_2</th>\n",
       "      <th>PAY_6_3</th>\n",
       "      <th>PAY_6_4</th>\n",
       "      <th>PAY_6_5</th>\n",
       "      <th>PAY_6_6</th>\n",
       "      <th>PAY_6_7</th>\n",
       "      <th>PAY_6_8</th>\n",
       "    </tr>\n",
       "  </thead>\n",
       "  <tbody>\n",
       "    <tr>\n",
       "      <th>6721</th>\n",
       "      <td>140000.0</td>\n",
       "      <td>55</td>\n",
       "      <td>162452.0</td>\n",
       "      <td>164055.0</td>\n",
       "      <td>141301.0</td>\n",
       "      <td>99115.0</td>\n",
       "      <td>101597.0</td>\n",
       "      <td>101290.0</td>\n",
       "      <td>5000.0</td>\n",
       "      <td>140000.0</td>\n",
       "      <td>...</td>\n",
       "      <td>0</td>\n",
       "      <td>0</td>\n",
       "      <td>1</td>\n",
       "      <td>0</td>\n",
       "      <td>0</td>\n",
       "      <td>0</td>\n",
       "      <td>0</td>\n",
       "      <td>0</td>\n",
       "      <td>0</td>\n",
       "      <td>0</td>\n",
       "    </tr>\n",
       "    <tr>\n",
       "      <th>11512</th>\n",
       "      <td>240000.0</td>\n",
       "      <td>32</td>\n",
       "      <td>4101.0</td>\n",
       "      <td>7101.0</td>\n",
       "      <td>5500.0</td>\n",
       "      <td>5500.0</td>\n",
       "      <td>5500.0</td>\n",
       "      <td>5463.0</td>\n",
       "      <td>8500.0</td>\n",
       "      <td>5500.0</td>\n",
       "      <td>...</td>\n",
       "      <td>0</td>\n",
       "      <td>1</td>\n",
       "      <td>0</td>\n",
       "      <td>0</td>\n",
       "      <td>0</td>\n",
       "      <td>0</td>\n",
       "      <td>0</td>\n",
       "      <td>0</td>\n",
       "      <td>0</td>\n",
       "      <td>0</td>\n",
       "    </tr>\n",
       "    <tr>\n",
       "      <th>8254</th>\n",
       "      <td>30000.0</td>\n",
       "      <td>22</td>\n",
       "      <td>2949.0</td>\n",
       "      <td>19689.0</td>\n",
       "      <td>17681.0</td>\n",
       "      <td>17113.0</td>\n",
       "      <td>13368.0</td>\n",
       "      <td>11739.0</td>\n",
       "      <td>19689.0</td>\n",
       "      <td>2092.0</td>\n",
       "      <td>...</td>\n",
       "      <td>0</td>\n",
       "      <td>0</td>\n",
       "      <td>0</td>\n",
       "      <td>1</td>\n",
       "      <td>0</td>\n",
       "      <td>0</td>\n",
       "      <td>0</td>\n",
       "      <td>0</td>\n",
       "      <td>0</td>\n",
       "      <td>0</td>\n",
       "    </tr>\n",
       "    <tr>\n",
       "      <th>10821</th>\n",
       "      <td>160000.0</td>\n",
       "      <td>30</td>\n",
       "      <td>0.0</td>\n",
       "      <td>0.0</td>\n",
       "      <td>0.0</td>\n",
       "      <td>0.0</td>\n",
       "      <td>0.0</td>\n",
       "      <td>0.0</td>\n",
       "      <td>0.0</td>\n",
       "      <td>0.0</td>\n",
       "      <td>...</td>\n",
       "      <td>0</td>\n",
       "      <td>0</td>\n",
       "      <td>0</td>\n",
       "      <td>0</td>\n",
       "      <td>0</td>\n",
       "      <td>0</td>\n",
       "      <td>0</td>\n",
       "      <td>0</td>\n",
       "      <td>0</td>\n",
       "      <td>0</td>\n",
       "    </tr>\n",
       "    <tr>\n",
       "      <th>1241</th>\n",
       "      <td>70000.0</td>\n",
       "      <td>32</td>\n",
       "      <td>18317.0</td>\n",
       "      <td>17330.0</td>\n",
       "      <td>11400.0</td>\n",
       "      <td>11120.0</td>\n",
       "      <td>10914.0</td>\n",
       "      <td>11315.0</td>\n",
       "      <td>0.0</td>\n",
       "      <td>1000.0</td>\n",
       "      <td>...</td>\n",
       "      <td>0</td>\n",
       "      <td>1</td>\n",
       "      <td>0</td>\n",
       "      <td>0</td>\n",
       "      <td>0</td>\n",
       "      <td>0</td>\n",
       "      <td>0</td>\n",
       "      <td>0</td>\n",
       "      <td>0</td>\n",
       "      <td>0</td>\n",
       "    </tr>\n",
       "  </tbody>\n",
       "</table>\n",
       "<p>5 rows × 79 columns</p>\n",
       "</div>"
      ],
      "text/plain": [
       "       LIMIT_BAL  AGE  BILL_AMT1  BILL_AMT2  BILL_AMT3  BILL_AMT4  BILL_AMT5  \\\n",
       "6721    140000.0   55   162452.0   164055.0   141301.0    99115.0   101597.0   \n",
       "11512   240000.0   32     4101.0     7101.0     5500.0     5500.0     5500.0   \n",
       "8254     30000.0   22     2949.0    19689.0    17681.0    17113.0    13368.0   \n",
       "10821   160000.0   30        0.0        0.0        0.0        0.0        0.0   \n",
       "1241     70000.0   32    18317.0    17330.0    11400.0    11120.0    10914.0   \n",
       "\n",
       "       BILL_AMT6  PAY_AMT1  PAY_AMT2  ...  PAY_5_8  PAY_6_-1  PAY_6_0  \\\n",
       "6721    101290.0    5000.0  140000.0  ...        0         0        1   \n",
       "11512     5463.0    8500.0    5500.0  ...        0         1        0   \n",
       "8254     11739.0   19689.0    2092.0  ...        0         0        0   \n",
       "10821        0.0       0.0       0.0  ...        0         0        0   \n",
       "1241     11315.0       0.0    1000.0  ...        0         1        0   \n",
       "\n",
       "       PAY_6_2  PAY_6_3  PAY_6_4  PAY_6_5  PAY_6_6  PAY_6_7  PAY_6_8  \n",
       "6721         0        0        0        0        0        0        0  \n",
       "11512        0        0        0        0        0        0        0  \n",
       "8254         1        0        0        0        0        0        0  \n",
       "10821        0        0        0        0        0        0        0  \n",
       "1241         0        0        0        0        0        0        0  \n",
       "\n",
       "[5 rows x 79 columns]"
      ]
     },
     "execution_count": 322,
     "metadata": {},
     "output_type": "execute_result"
    }
   ],
   "source": [
    "X_encoded.head()"
   ]
  },
  {
   "cell_type": "markdown",
   "metadata": {},
   "source": [
    "## Now we do Scaling\n",
    "\n",
    "* ### we split the data into training and testing datasets and then scale them separately to avoid Data Leakage.\n",
    "* ### Data Leakage occurs when information about the training dataset corrupts or influences the testing dataset."
   ]
  },
  {
   "cell_type": "code",
   "execution_count": 323,
   "metadata": {},
   "outputs": [],
   "source": [
    "X_train, X_test, y_train, y_test = train_test_split(X_encoded, y, test_size=0.3, random_state=8)\n",
    "\n",
    "X_train_scaled = scale(X_train)\n",
    "X_test_scaled = scale(X_test)"
   ]
  },
  {
   "cell_type": "markdown",
   "metadata": {},
   "source": [
    "## Build a preliminary SVM"
   ]
  },
  {
   "cell_type": "code",
   "execution_count": 324,
   "metadata": {},
   "outputs": [
    {
     "data": {
      "text/plain": [
       "SVC(random_state=8)"
      ]
     },
     "execution_count": 324,
     "metadata": {},
     "output_type": "execute_result"
    }
   ],
   "source": [
    "clf_svm = SVC(random_state=8)\n",
    "clf_svm.fit(X_train_scaled, y_train)"
   ]
  },
  {
   "cell_type": "markdown",
   "metadata": {},
   "source": [
    "## we've build a Support Vector Machine for classification, let's see how it performs on the training dataset and draw a confusion matrix."
   ]
  },
  {
   "cell_type": "code",
   "execution_count": 325,
   "metadata": {},
   "outputs": [
    {
     "data": {
      "text/plain": [
       "<sklearn.metrics._plot.confusion_matrix.ConfusionMatrixDisplay at 0x7f914d4f1f10>"
      ]
     },
     "execution_count": 325,
     "metadata": {},
     "output_type": "execute_result"
    },
    {
     "data": {
      "image/png": "[encoded data removed]",
      "text/plain": [
       "<Figure size 432x288 with 2 Axes>"
      ]
     },
     "metadata": {
      "needs_background": "light"
     },
     "output_type": "display_data"
    }
   ],
   "source": [
    "plot_confusion_matrix(clf_svm,\n",
    "                     X_test_scaled,\n",
    "                     y_test)"
   ]
  },
  {
   "cell_type": "code",
   "execution_count": 326,
   "metadata": {},
   "outputs": [],
   "source": [
    "y_pred = clf_svm.predict(X_test_scaled)"
   ]
  },
  {
   "cell_type": "code",
   "execution_count": 327,
   "metadata": {},
   "outputs": [
    {
     "data": {
      "text/plain": [
       "array([0, 0, 0, 0, 0, 0, 1, 0, 1, 1, 0, 0, 1, 0, 0, 1, 0, 0, 1, 0, 0, 0,\n",
       "       1, 0, 1, 0, 0, 0, 0, 1, 1, 0, 1, 1, 1, 1, 0, 0, 0, 0, 0, 0, 1, 1,\n",
       "       0, 1, 0, 1, 0, 0, 0, 1, 0, 0, 0, 0, 0, 1, 0, 1, 0, 0, 0, 0, 1, 1,\n",
       "       1, 1, 1, 1, 0, 0, 1, 0, 1, 0, 1, 1, 1, 0, 0, 0, 0, 1, 0, 1, 0, 1,\n",
       "       1, 0, 0, 1, 1, 0, 0, 0, 1, 1, 0, 1])"
      ]
     },
     "execution_count": 327,
     "metadata": {},
     "output_type": "execute_result"
    }
   ],
   "source": [
    "y_pred[0:100]"
   ]
  },
  {
   "cell_type": "code",
   "execution_count": 328,
   "metadata": {},
   "outputs": [
    {
     "data": {
      "text/plain": [
       "0.7153333333333334"
      ]
     },
     "execution_count": 328,
     "metadata": {},
     "output_type": "execute_result"
    }
   ],
   "source": [
    "from sklearn.metrics import accuracy_score\n",
    "accuracy_score(y_test, y_pred)"
   ]
  },
  {
   "cell_type": "code",
   "execution_count": 329,
   "metadata": {},
   "outputs": [],
   "source": [
    "from sklearn.model_selection import cross_val_score\n",
    "score  = cross_val_score(clf_svm, X_test_scaled, y_test, cv=5)"
   ]
  },
  {
   "cell_type": "code",
   "execution_count": 330,
   "metadata": {},
   "outputs": [
    {
     "name": "stdout",
     "output_type": "stream",
     "text": [
      "svm_cross_validation_score: 0.713\n"
     ]
    }
   ],
   "source": [
    "svm_cross_validation_score = score.mean()\n",
    "print(\"svm_cross_validation_score: {}\".format(svm_cross_validation_score))"
   ]
  },
  {
   "cell_type": "code",
   "execution_count": 331,
   "metadata": {},
   "outputs": [
    {
     "data": {
      "text/plain": [
       "<sklearn.metrics._plot.roc_curve.RocCurveDisplay at 0x7f914d4f1290>"
      ]
     },
     "execution_count": 331,
     "metadata": {},
     "output_type": "execute_result"
    },
    {
     "data": {
      "image/png": "[encoded data removed]",
      "text/plain": [
       "<Figure size 432x288 with 1 Axes>"
      ]
     },
     "metadata": {
      "needs_background": "light"
     },
     "output_type": "display_data"
    }
   ],
   "source": [
    "from sklearn.metrics import plot_roc_curve\n",
    "\n",
    "plot_roc_curve(clf_svm,X_test_scaled,y_test)"
   ]
  },
  {
   "cell_type": "markdown",
   "metadata": {},
   "source": [
    "# Random Forest Classifier"
   ]
  },
  {
   "cell_type": "code",
   "execution_count": 332,
   "metadata": {},
   "outputs": [],
   "source": [
    "from sklearn.ensemble import RandomForestClassifier"
   ]
  },
  {
   "cell_type": "code",
   "execution_count": 333,
   "metadata": {},
   "outputs": [],
   "source": [
    "rf_clf = RandomForestClassifier(n_jobs= 4 ,\n",
    "                                random_state=8,\n",
    "                                criterion= 'gini',\n",
    "                                n_estimators= 100,\n",
    "                                verbose= 50)"
   ]
  },
  {
   "cell_type": "code",
   "execution_count": 334,
   "metadata": {},
   "outputs": [
    {
     "name": "stdout",
     "output_type": "stream",
     "text": [
      "[Parallel(n_jobs=4)]: Using backend ThreadingBackend with 4 concurrent workers.\n",
      "building tree 1 of 100building tree 2 of 100building tree 3 of 100\n",
      "\n",
      "\n",
      "building tree 4 of 100\n",
      "building tree 5 of 100[Parallel(n_jobs=4)]: Done   1 tasks      | elapsed:    0.0s\n",
      "\n",
      "building tree 6 of 100[Parallel(n_jobs=4)]: Done   2 tasks      | elapsed:    0.0s\n",
      "\n",
      "building tree 7 of 100[Parallel(n_jobs=4)]: Done   3 tasks      | elapsed:    0.0s\n",
      "\n",
      "building tree 8 of 100[Parallel(n_jobs=4)]: Done   4 tasks      | elapsed:    0.1s\n",
      "\n",
      "building tree 9 of 100[Parallel(n_jobs=4)]: Done   5 tasks      | elapsed:    0.1s\n",
      "\n",
      "building tree 10 of 100[Parallel(n_jobs=4)]: Done   6 tasks      | elapsed:    0.1s\n",
      "\n",
      "building tree 11 of 100[Parallel(n_jobs=4)]: Done   7 tasks      | elapsed:    0.1s\n",
      "\n",
      "building tree 12 of 100\n",
      "[Parallel(n_jobs=4)]: Done   8 tasks      | elapsed:    0.1s\n",
      "building tree 13 of 100[Parallel(n_jobs=4)]: Done   9 tasks      | elapsed:    0.1s\n",
      "\n",
      "building tree 14 of 100\n",
      "[Parallel(n_jobs=4)]: Done  10 tasks      | elapsed:    0.1s\n",
      "building tree 15 of 100[Parallel(n_jobs=4)]: Done  11 tasks      | elapsed:    0.1s\n",
      "\n",
      "building tree 16 of 100\n",
      "[Parallel(n_jobs=4)]: Done  12 tasks      | elapsed:    0.1s\n",
      "building tree 17 of 100[Parallel(n_jobs=4)]: Done  13 tasks      | elapsed:    0.1s\n",
      "building tree 18 of 100[Parallel(n_jobs=4)]: Done  14 tasks      | elapsed:    0.1s\n",
      "\n",
      "\n",
      "building tree 19 of 100[Parallel(n_jobs=4)]: Done  15 tasks      | elapsed:    0.1s\n",
      "\n",
      "building tree 20 of 100[Parallel(n_jobs=4)]: Done  16 tasks      | elapsed:    0.1s\n",
      "\n",
      "building tree 21 of 100\n",
      "[Parallel(n_jobs=4)]: Done  17 tasks      | elapsed:    0.2s\n",
      "building tree 22 of 100\n",
      "[Parallel(n_jobs=4)]: Done  18 tasks      | elapsed:    0.2s\n",
      "building tree 23 of 100[Parallel(n_jobs=4)]: Done  19 tasks      | elapsed:    0.2s\n",
      "\n",
      "building tree 24 of 100[Parallel(n_jobs=4)]: Done  20 tasks      | elapsed:    0.2s\n",
      "\n",
      "building tree 25 of 100[Parallel(n_jobs=4)]: Done  21 tasks      | elapsed:    0.2s\n",
      "building tree 26 of 100\n",
      "[Parallel(n_jobs=4)]: Done  22 tasks      | elapsed:    0.2s\n",
      "\n",
      "building tree 27 of 100[Parallel(n_jobs=4)]: Done  23 tasks      | elapsed:    0.2s\n",
      "\n",
      "building tree 28 of 100[Parallel(n_jobs=4)]: Done  24 tasks      | elapsed:    0.2s\n",
      "\n",
      "building tree 29 of 100[Parallel(n_jobs=4)]: Done  25 tasks      | elapsed:    0.2s\n",
      "\n",
      "building tree 30 of 100[Parallel(n_jobs=4)]: Done  26 tasks      | elapsed:    0.2s\n",
      "\n",
      "building tree 31 of 100[Parallel(n_jobs=4)]: Done  27 tasks      | elapsed:    0.2s\n",
      "\n",
      "building tree 32 of 100\n",
      "[Parallel(n_jobs=4)]: Done  28 tasks      | elapsed:    0.2s\n",
      "building tree 33 of 100[Parallel(n_jobs=4)]: Done  29 tasks      | elapsed:    0.3s\n",
      "\n",
      "building tree 34 of 100[Parallel(n_jobs=4)]: Done  30 tasks      | elapsed:    0.3s\n",
      "\n",
      "building tree 35 of 100\n",
      "[Parallel(n_jobs=4)]: Done  31 tasks      | elapsed:    0.3s\n",
      "building tree 36 of 100[Parallel(n_jobs=4)]: Done  32 tasks      | elapsed:    0.3s\n",
      "\n",
      "building tree 37 of 100[Parallel(n_jobs=4)]: Done  33 tasks      | elapsed:    0.3s\n",
      "\n",
      "building tree 38 of 100[Parallel(n_jobs=4)]: Done  34 tasks      | elapsed:    0.3s\n",
      "\n",
      "building tree 39 of 100[Parallel(n_jobs=4)]: Done  35 tasks      | elapsed:    0.3s\n",
      "\n",
      "building tree 40 of 100\n",
      "[Parallel(n_jobs=4)]: Done  36 tasks      | elapsed:    0.3s\n",
      "building tree 41 of 100\n",
      "[Parallel(n_jobs=4)]: Done  37 tasks      | elapsed:    0.3s\n",
      "building tree 42 of 100[Parallel(n_jobs=4)]: Done  38 tasks      | elapsed:    0.3s\n",
      "\n",
      "building tree 43 of 100[Parallel(n_jobs=4)]: Done  39 tasks      | elapsed:    0.3s\n",
      "building tree 44 of 100\n",
      "[Parallel(n_jobs=4)]: Done  40 tasks      | elapsed:    0.3s\n",
      "\n",
      "building tree 45 of 100[Parallel(n_jobs=4)]: Done  41 tasks      | elapsed:    0.3s\n",
      "\n",
      "building tree 46 of 100[Parallel(n_jobs=4)]: Done  42 tasks      | elapsed:    0.4s\n",
      "\n",
      "building tree 47 of 100[Parallel(n_jobs=4)]: Done  43 tasks      | elapsed:    0.4s\n",
      "building tree 48 of 100[Parallel(n_jobs=4)]: Done  44 tasks      | elapsed:    0.4s\n",
      "\n",
      "\n",
      "building tree 49 of 100[Parallel(n_jobs=4)]: Done  45 tasks      | elapsed:    0.4s\n",
      "\n",
      "building tree 50 of 100[Parallel(n_jobs=4)]: Done  46 tasks      | elapsed:    0.4s\n",
      "\n",
      "building tree 51 of 100[Parallel(n_jobs=4)]: Done  47 tasks      | elapsed:    0.4s\n",
      "\n",
      "building tree 52 of 100[Parallel(n_jobs=4)]: Done  48 tasks      | elapsed:    0.4s\n",
      "\n",
      "building tree 53 of 100[Parallel(n_jobs=4)]: Done  49 tasks      | elapsed:    0.4s\n",
      "\n",
      "building tree 54 of 100[Parallel(n_jobs=4)]: Done  50 tasks      | elapsed:    0.4s\n",
      "\n",
      "building tree 55 of 100[Parallel(n_jobs=4)]: Done  51 tasks      | elapsed:    0.4s\n",
      "\n",
      "building tree 56 of 100[Parallel(n_jobs=4)]: Done  52 tasks      | elapsed:    0.4s\n",
      "\n",
      "building tree 57 of 100[Parallel(n_jobs=4)]: Done  53 tasks      | elapsed:    0.4s\n",
      "\n",
      "building tree 58 of 100\n",
      "[Parallel(n_jobs=4)]: Done  54 tasks      | elapsed:    0.5s\n",
      "building tree 59 of 100[Parallel(n_jobs=4)]: Done  55 tasks      | elapsed:    0.5s\n",
      "\n",
      "building tree 60 of 100[Parallel(n_jobs=4)]: Done  56 tasks      | elapsed:    0.5s\n",
      "building tree 61 of 100[Parallel(n_jobs=4)]: Done  57 tasks      | elapsed:    0.5s\n",
      "\n",
      "\n",
      "building tree 62 of 100[Parallel(n_jobs=4)]: Done  58 tasks      | elapsed:    0.5s\n",
      "\n",
      "building tree 63 of 100[Parallel(n_jobs=4)]: Done  59 tasks      | elapsed:    0.5s\n",
      "\n",
      "building tree 64 of 100[Parallel(n_jobs=4)]: Done  60 tasks      | elapsed:    0.5s\n",
      "\n",
      "building tree 65 of 100\n",
      "[Parallel(n_jobs=4)]: Done  61 tasks      | elapsed:    0.5s\n",
      "building tree 66 of 100[Parallel(n_jobs=4)]: Done  62 tasks      | elapsed:    0.5s\n",
      "\n",
      "building tree 67 of 100[Parallel(n_jobs=4)]: Done  63 tasks      | elapsed:    0.5s\n",
      "\n",
      "building tree 68 of 100[Parallel(n_jobs=4)]: Done  64 tasks      | elapsed:    0.5s\n",
      "\n",
      "building tree 69 of 100[Parallel(n_jobs=4)]: Done  65 tasks      | elapsed:    0.5s\n",
      "\n",
      "building tree 70 of 100[Parallel(n_jobs=4)]: Done  66 tasks      | elapsed:    0.6s\n",
      "\n",
      "building tree 71 of 100[Parallel(n_jobs=4)]: Done  67 tasks      | elapsed:    0.6s\n",
      "\n",
      "building tree 72 of 100\n",
      "[Parallel(n_jobs=4)]: Done  68 tasks      | elapsed:    0.6s\n",
      "building tree 73 of 100[Parallel(n_jobs=4)]: Done  69 tasks      | elapsed:    0.6s\n",
      "\n",
      "building tree 74 of 100\n",
      "[Parallel(n_jobs=4)]: Done  70 tasks      | elapsed:    0.6s\n",
      "building tree 75 of 100\n",
      "[Parallel(n_jobs=4)]: Done  71 tasks      | elapsed:    0.6s\n",
      "building tree 76 of 100[Parallel(n_jobs=4)]: Done  72 tasks      | elapsed:    0.6s\n",
      "\n",
      "building tree 77 of 100[Parallel(n_jobs=4)]: Done  73 tasks      | elapsed:    0.6s\n",
      "\n",
      "building tree 78 of 100[Parallel(n_jobs=4)]: Done  74 tasks      | elapsed:    0.6s\n",
      "\n",
      "building tree 79 of 100\n",
      "[Parallel(n_jobs=4)]: Done  75 tasks      | elapsed:    0.6s\n",
      "building tree 80 of 100[Parallel(n_jobs=4)]: Done  76 tasks      | elapsed:    0.6s\n",
      "\n",
      "building tree 81 of 100[Parallel(n_jobs=4)]: Done  77 tasks      | elapsed:    0.7s\n",
      "building tree 82 of 100\n",
      "[Parallel(n_jobs=4)]: Done  78 tasks      | elapsed:    0.7s\n",
      "\n",
      "building tree 83 of 100\n",
      "[Parallel(n_jobs=4)]: Done  79 tasks      | elapsed:    0.7s\n",
      "building tree 84 of 100[Parallel(n_jobs=4)]: Done  80 tasks      | elapsed:    0.7s\n",
      "\n",
      "building tree 85 of 100[Parallel(n_jobs=4)]: Done  81 tasks      | elapsed:    0.7s\n",
      "\n",
      "building tree 86 of 100[Parallel(n_jobs=4)]: Done  82 tasks      | elapsed:    0.7s\n",
      "\n",
      "building tree 87 of 100[Parallel(n_jobs=4)]: Done  83 tasks      | elapsed:    0.7s\n",
      "\n",
      "building tree 88 of 100[Parallel(n_jobs=4)]: Done  84 tasks      | elapsed:    0.7s\n",
      "\n",
      "building tree 89 of 100[Parallel(n_jobs=4)]: Done  85 tasks      | elapsed:    0.7s\n",
      "\n",
      "building tree 90 of 100[Parallel(n_jobs=4)]: Done  86 tasks      | elapsed:    0.7s\n",
      "building tree 91 of 100[Parallel(n_jobs=4)]: Done  87 tasks      | elapsed:    0.7s\n",
      "\n",
      "\n",
      "building tree 92 of 100[Parallel(n_jobs=4)]: Done  88 tasks      | elapsed:    0.7s\n",
      "\n",
      "building tree 93 of 100[Parallel(n_jobs=4)]: Done  89 tasks      | elapsed:    0.8s\n",
      "\n",
      "building tree 94 of 100\n",
      "[Parallel(n_jobs=4)]: Done  90 tasks      | elapsed:    0.8s\n",
      "building tree 95 of 100\n",
      "[Parallel(n_jobs=4)]: Done  91 tasks      | elapsed:    0.8s\n",
      "building tree 96 of 100[Parallel(n_jobs=4)]: Done  92 tasks      | elapsed:    0.8s\n",
      "\n",
      "building tree 97 of 100\n",
      "[Parallel(n_jobs=4)]: Done  93 tasks      | elapsed:    0.8s\n",
      "building tree 98 of 100\n",
      "building tree 99 of 100\n",
      "building tree 100 of 100[Parallel(n_jobs=4)]: Done  96 out of 100 | elapsed:    0.8s remaining:    0.0s\n",
      "\n"
     ]
    },
    {
     "name": "stdout",
     "output_type": "stream",
     "text": [
      "[Parallel(n_jobs=4)]: Done 100 out of 100 | elapsed:    0.8s finished\n"
     ]
    },
    {
     "data": {
      "text/plain": [
       "RandomForestClassifier(n_jobs=4, random_state=8, verbose=50)"
      ]
     },
     "execution_count": 334,
     "metadata": {},
     "output_type": "execute_result"
    }
   ],
   "source": [
    "rf_clf.fit(X_train_scaled, y_train)"
   ]
  },
  {
   "cell_type": "code",
   "execution_count": 335,
   "metadata": {},
   "outputs": [
    {
     "name": "stdout",
     "output_type": "stream",
     "text": [
      "[Parallel(n_jobs=4)]: Using backend ThreadingBackend with 4 concurrent workers.\n",
      "[Parallel(n_jobs=4)]: Done   1 tasks      | elapsed:    0.0s\n",
      "[Parallel(n_jobs=4)]: Done   2 tasks      | elapsed:    0.0s\n",
      "[Parallel(n_jobs=4)]: Done   3 tasks      | elapsed:    0.0s\n",
      "[Parallel(n_jobs=4)]: Done   4 tasks      | elapsed:    0.0s\n",
      "[Parallel(n_jobs=4)]: Done   5 tasks      | elapsed:    0.0s\n",
      "[Parallel(n_jobs=4)]: Done   6 tasks      | elapsed:    0.0s\n",
      "[Parallel(n_jobs=4)]: Done   7 tasks      | elapsed:    0.0s\n",
      "[Parallel(n_jobs=4)]: Done   8 tasks      | elapsed:    0.0s\n",
      "[Parallel(n_jobs=4)]: Done   9 tasks      | elapsed:    0.0s\n",
      "[Parallel(n_jobs=4)]: Done  10 tasks      | elapsed:    0.0s\n",
      "[Parallel(n_jobs=4)]: Done  11 tasks      | elapsed:    0.0s\n",
      "[Parallel(n_jobs=4)]: Done  12 tasks      | elapsed:    0.0s\n",
      "[Parallel(n_jobs=4)]: Done  13 tasks      | elapsed:    0.0s\n",
      "[Parallel(n_jobs=4)]: Done  14 tasks      | elapsed:    0.0s\n",
      "[Parallel(n_jobs=4)]: Done  15 tasks      | elapsed:    0.0s\n",
      "[Parallel(n_jobs=4)]: Done  16 tasks      | elapsed:    0.0s\n",
      "[Parallel(n_jobs=4)]: Done  17 tasks      | elapsed:    0.0s\n",
      "[Parallel(n_jobs=4)]: Done  18 tasks      | elapsed:    0.0s\n",
      "[Parallel(n_jobs=4)]: Done  19 tasks      | elapsed:    0.0s\n",
      "[Parallel(n_jobs=4)]: Done  20 tasks      | elapsed:    0.0s\n",
      "[Parallel(n_jobs=4)]: Done  21 tasks      | elapsed:    0.0s\n",
      "[Parallel(n_jobs=4)]: Done  22 tasks      | elapsed:    0.0s\n",
      "[Parallel(n_jobs=4)]: Done  23 tasks      | elapsed:    0.0s\n",
      "[Parallel(n_jobs=4)]: Done  24 tasks      | elapsed:    0.0s\n",
      "[Parallel(n_jobs=4)]: Done  25 tasks      | elapsed:    0.0s\n",
      "[Parallel(n_jobs=4)]: Done  26 tasks      | elapsed:    0.0s\n",
      "[Parallel(n_jobs=4)]: Done  27 tasks      | elapsed:    0.0s\n",
      "[Parallel(n_jobs=4)]: Done  28 tasks      | elapsed:    0.0s\n",
      "[Parallel(n_jobs=4)]: Done  29 tasks      | elapsed:    0.0s\n",
      "[Parallel(n_jobs=4)]: Done  30 tasks      | elapsed:    0.0s\n",
      "[Parallel(n_jobs=4)]: Done  31 tasks      | elapsed:    0.0s\n",
      "[Parallel(n_jobs=4)]: Done  32 tasks      | elapsed:    0.0s\n",
      "[Parallel(n_jobs=4)]: Done  33 tasks      | elapsed:    0.0s\n",
      "[Parallel(n_jobs=4)]: Done  34 tasks      | elapsed:    0.0s\n",
      "[Parallel(n_jobs=4)]: Done  35 tasks      | elapsed:    0.0s\n",
      "[Parallel(n_jobs=4)]: Done  36 tasks      | elapsed:    0.0s\n",
      "[Parallel(n_jobs=4)]: Done  37 tasks      | elapsed:    0.0s\n",
      "[Parallel(n_jobs=4)]: Done  38 tasks      | elapsed:    0.0s\n",
      "[Parallel(n_jobs=4)]: Done  39 tasks      | elapsed:    0.0s\n",
      "[Parallel(n_jobs=4)]: Done  40 tasks      | elapsed:    0.0s\n",
      "[Parallel(n_jobs=4)]: Done  41 tasks      | elapsed:    0.0s\n",
      "[Parallel(n_jobs=4)]: Done  42 tasks      | elapsed:    0.0s\n",
      "[Parallel(n_jobs=4)]: Done  43 tasks      | elapsed:    0.0s\n",
      "[Parallel(n_jobs=4)]: Done  44 tasks      | elapsed:    0.0s\n",
      "[Parallel(n_jobs=4)]: Done  45 tasks      | elapsed:    0.0s\n",
      "[Parallel(n_jobs=4)]: Done  46 tasks      | elapsed:    0.0s\n",
      "[Parallel(n_jobs=4)]: Done  47 tasks      | elapsed:    0.0s\n",
      "[Parallel(n_jobs=4)]: Done  48 tasks      | elapsed:    0.0s\n",
      "[Parallel(n_jobs=4)]: Done  49 tasks      | elapsed:    0.0s\n",
      "[Parallel(n_jobs=4)]: Done  50 tasks      | elapsed:    0.0s\n",
      "[Parallel(n_jobs=4)]: Done  51 tasks      | elapsed:    0.0s\n",
      "[Parallel(n_jobs=4)]: Done  52 tasks      | elapsed:    0.0s\n",
      "[Parallel(n_jobs=4)]: Done  53 tasks      | elapsed:    0.0s\n",
      "[Parallel(n_jobs=4)]: Done  54 tasks      | elapsed:    0.1s\n",
      "[Parallel(n_jobs=4)]: Done  55 tasks      | elapsed:    0.1s\n",
      "[Parallel(n_jobs=4)]: Done  56 tasks      | elapsed:    0.1s\n",
      "[Parallel(n_jobs=4)]: Done  57 tasks      | elapsed:    0.1s\n",
      "[Parallel(n_jobs=4)]: Done  58 tasks      | elapsed:    0.1s\n",
      "[Parallel(n_jobs=4)]: Done  59 tasks      | elapsed:    0.1s\n",
      "[Parallel(n_jobs=4)]: Done  60 tasks      | elapsed:    0.1s\n",
      "[Parallel(n_jobs=4)]: Done  61 tasks      | elapsed:    0.1s\n",
      "[Parallel(n_jobs=4)]: Done  62 tasks      | elapsed:    0.1s\n",
      "[Parallel(n_jobs=4)]: Done  63 tasks      | elapsed:    0.1s\n",
      "[Parallel(n_jobs=4)]: Done  64 tasks      | elapsed:    0.1s\n",
      "[Parallel(n_jobs=4)]: Done  65 tasks      | elapsed:    0.1s\n",
      "[Parallel(n_jobs=4)]: Done  66 tasks      | elapsed:    0.1s\n",
      "[Parallel(n_jobs=4)]: Done  67 tasks      | elapsed:    0.1s\n",
      "[Parallel(n_jobs=4)]: Done  68 tasks      | elapsed:    0.1s\n",
      "[Parallel(n_jobs=4)]: Done  69 tasks      | elapsed:    0.1s\n",
      "[Parallel(n_jobs=4)]: Done  70 tasks      | elapsed:    0.1s\n",
      "[Parallel(n_jobs=4)]: Done  71 tasks      | elapsed:    0.1s\n",
      "[Parallel(n_jobs=4)]: Done  72 tasks      | elapsed:    0.1s\n",
      "[Parallel(n_jobs=4)]: Done  73 tasks      | elapsed:    0.1s\n",
      "[Parallel(n_jobs=4)]: Done  74 tasks      | elapsed:    0.1s\n",
      "[Parallel(n_jobs=4)]: Done  75 tasks      | elapsed:    0.1s\n",
      "[Parallel(n_jobs=4)]: Done  76 tasks      | elapsed:    0.1s\n",
      "[Parallel(n_jobs=4)]: Done  77 tasks      | elapsed:    0.1s\n",
      "[Parallel(n_jobs=4)]: Done  78 tasks      | elapsed:    0.1s\n",
      "[Parallel(n_jobs=4)]: Done  79 tasks      | elapsed:    0.1s\n",
      "[Parallel(n_jobs=4)]: Done  80 tasks      | elapsed:    0.1s\n",
      "[Parallel(n_jobs=4)]: Done  81 tasks      | elapsed:    0.1s\n",
      "[Parallel(n_jobs=4)]: Done  82 tasks      | elapsed:    0.1s\n",
      "[Parallel(n_jobs=4)]: Done  83 tasks      | elapsed:    0.1s\n",
      "[Parallel(n_jobs=4)]: Done  84 tasks      | elapsed:    0.1s\n",
      "[Parallel(n_jobs=4)]: Done  85 tasks      | elapsed:    0.1s\n",
      "[Parallel(n_jobs=4)]: Done  86 tasks      | elapsed:    0.1s\n",
      "[Parallel(n_jobs=4)]: Done  87 tasks      | elapsed:    0.1s\n",
      "[Parallel(n_jobs=4)]: Done  88 tasks      | elapsed:    0.1s\n",
      "[Parallel(n_jobs=4)]: Done  89 tasks      | elapsed:    0.1s\n",
      "[Parallel(n_jobs=4)]: Done  90 tasks      | elapsed:    0.1s\n",
      "[Parallel(n_jobs=4)]: Done  91 tasks      | elapsed:    0.1s\n",
      "[Parallel(n_jobs=4)]: Done  92 tasks      | elapsed:    0.1s\n",
      "[Parallel(n_jobs=4)]: Done  93 tasks      | elapsed:    0.1s\n",
      "[Parallel(n_jobs=4)]: Done  96 out of 100 | elapsed:    0.1s remaining:    0.0s\n",
      "[Parallel(n_jobs=4)]: Done 100 out of 100 | elapsed:    0.1s finished\n"
     ]
    }
   ],
   "source": [
    "rf_y_pred=rf_clf.predict(X_test_scaled)"
   ]
  },
  {
   "cell_type": "code",
   "execution_count": 336,
   "metadata": {},
   "outputs": [
    {
     "data": {
      "text/plain": [
       "array([0, 0, 0, ..., 1, 1, 1])"
      ]
     },
     "execution_count": 336,
     "metadata": {},
     "output_type": "execute_result"
    }
   ],
   "source": [
    "rf_y_pred"
   ]
  },
  {
   "cell_type": "code",
   "execution_count": 337,
   "metadata": {},
   "outputs": [],
   "source": [
    "from sklearn import metrics"
   ]
  },
  {
   "cell_type": "code",
   "execution_count": 338,
   "metadata": {},
   "outputs": [],
   "source": [
    "accuracy = metrics.accuracy_score(y_test, rf_y_pred)"
   ]
  },
  {
   "cell_type": "code",
   "execution_count": 339,
   "metadata": {},
   "outputs": [
    {
     "name": "stdout",
     "output_type": "stream",
     "text": [
      "Random Forest Accuracy score:  0.7206666666666667\n"
     ]
    }
   ],
   "source": [
    "print(\"Random Forest Accuracy score: \", accuracy)"
   ]
  },
  {
   "cell_type": "code",
   "execution_count": 340,
   "metadata": {},
   "outputs": [
    {
     "data": {
      "text/plain": [
       "array([6.52866008e-02, 5.98234610e-02, 5.73924127e-02, 5.29069871e-02,\n",
       "       5.01136244e-02, 4.91628236e-02, 4.87703191e-02, 4.73947493e-02,\n",
       "       5.67939328e-02, 4.93641385e-02, 4.59210733e-02, 4.36960629e-02,\n",
       "       4.20503427e-02, 4.37207030e-02, 1.30319859e-02, 1.18493268e-02,\n",
       "       8.88781089e-03, 8.09272128e-04, 1.08440605e-03, 4.16238187e-04,\n",
       "       1.22613367e-02, 1.90990128e-03, 6.62809854e-03, 2.36896837e-02,\n",
       "       7.61298021e-03, 4.99006511e-02, 1.67021644e-03, 2.04213202e-04,\n",
       "       1.37676902e-04, 7.48258568e-05, 5.67040242e-06, 1.47680961e-05,\n",
       "       5.49548902e-03, 7.20056791e-03, 2.45616985e-04, 2.65376235e-02,\n",
       "       2.32685739e-03, 2.79856221e-04, 6.58414556e-05, 1.72545510e-05,\n",
       "       7.37385116e-05, 5.21807132e-03, 6.63615095e-03, 1.87348194e-05,\n",
       "       2.06136959e-02, 7.40561420e-04, 2.36330789e-04, 5.74744791e-05,\n",
       "       5.04096876e-05, 1.82887896e-05, 0.00000000e+00, 4.60279942e-03,\n",
       "       5.23041676e-03, 0.00000000e+00, 1.50220063e-02, 4.54010947e-04,\n",
       "       1.82210366e-04, 7.85564092e-05, 3.31545798e-05, 2.54068431e-04,\n",
       "       0.00000000e+00, 4.31792783e-03, 5.70793748e-03, 1.19145510e-02,\n",
       "       5.75198714e-04, 3.37861985e-04, 1.71013673e-04, 2.21560177e-05,\n",
       "       1.90813951e-04, 0.00000000e+00, 5.41685274e-03, 6.13321263e-03,\n",
       "       9.92249065e-03, 6.82988418e-04, 2.08646059e-04, 7.61298117e-06,\n",
       "       1.41514100e-05, 1.00504185e-04, 0.00000000e+00])"
      ]
     },
     "execution_count": 340,
     "metadata": {},
     "output_type": "execute_result"
    }
   ],
   "source": [
    "rf_clf.feature_importances_"
   ]
  },
  {
   "cell_type": "code",
   "execution_count": 341,
   "metadata": {},
   "outputs": [
    {
     "data": {
      "image/png": "[encoded data removed]",
      "text/plain": [
       "<Figure size 1152x288 with 1 Axes>"
      ]
     },
     "metadata": {
      "needs_background": "light"
     },
     "output_type": "display_data"
    }
   ],
   "source": [
    "tmp = pd.DataFrame({'Feature': X_encoded.columns, 'Feature importance': rf_clf.feature_importances_})\n",
    "tmp = tmp.sort_values(by='Feature importance',ascending=False)\n",
    "plt.figure(figsize = (16,4))\n",
    "plt.title('Features importance',fontsize=14)\n",
    "s = sns.barplot(x='Feature',y='Feature importance',data=tmp)\n",
    "s.set_xticklabels(s.get_xticklabels(),rotation=90)\n",
    "plt.show()"
   ]
  },
  {
   "cell_type": "code",
   "execution_count": 372,
   "metadata": {},
   "outputs": [
    {
     "name": "stdout",
     "output_type": "stream",
     "text": [
      "[Parallel(n_jobs=4)]: Using backend ThreadingBackend with 4 concurrent workers.\n",
      "[Parallel(n_jobs=4)]: Done   1 tasks      | elapsed:    0.0s\n",
      "[Parallel(n_jobs=4)]: Done   2 tasks      | elapsed:    0.0s\n",
      "[Parallel(n_jobs=4)]: Done   3 tasks      | elapsed:    0.0s\n",
      "[Parallel(n_jobs=4)]: Done   4 tasks      | elapsed:    0.0s\n",
      "[Parallel(n_jobs=4)]: Done   5 tasks      | elapsed:    0.0s\n",
      "[Parallel(n_jobs=4)]: Done   6 tasks      | elapsed:    0.0s\n",
      "[Parallel(n_jobs=4)]: Done   7 tasks      | elapsed:    0.0s\n",
      "[Parallel(n_jobs=4)]: Done   8 tasks      | elapsed:    0.0s\n",
      "[Parallel(n_jobs=4)]: Done   9 tasks      | elapsed:    0.0s\n",
      "[Parallel(n_jobs=4)]: Done  10 tasks      | elapsed:    0.0s\n",
      "[Parallel(n_jobs=4)]: Done  11 tasks      | elapsed:    0.0s\n",
      "[Parallel(n_jobs=4)]: Done  12 tasks      | elapsed:    0.0s\n",
      "[Parallel(n_jobs=4)]: Done  13 tasks      | elapsed:    0.0s\n",
      "[Parallel(n_jobs=4)]: Done  14 tasks      | elapsed:    0.0s\n",
      "[Parallel(n_jobs=4)]: Done  15 tasks      | elapsed:    0.0s\n",
      "[Parallel(n_jobs=4)]: Done  16 tasks      | elapsed:    0.0s\n",
      "[Parallel(n_jobs=4)]: Done  17 tasks      | elapsed:    0.0s\n",
      "[Parallel(n_jobs=4)]: Done  18 tasks      | elapsed:    0.0s\n",
      "[Parallel(n_jobs=4)]: Done  19 tasks      | elapsed:    0.0s\n",
      "[Parallel(n_jobs=4)]: Done  20 tasks      | elapsed:    0.0s\n",
      "[Parallel(n_jobs=4)]: Done  21 tasks      | elapsed:    0.0s\n",
      "[Parallel(n_jobs=4)]: Done  22 tasks      | elapsed:    0.0s\n",
      "[Parallel(n_jobs=4)]: Done  23 tasks      | elapsed:    0.0s\n",
      "[Parallel(n_jobs=4)]: Done  24 tasks      | elapsed:    0.0s\n",
      "[Parallel(n_jobs=4)]: Done  25 tasks      | elapsed:    0.0s\n",
      "[Parallel(n_jobs=4)]: Done  26 tasks      | elapsed:    0.0s\n",
      "[Parallel(n_jobs=4)]: Done  27 tasks      | elapsed:    0.0s\n",
      "[Parallel(n_jobs=4)]: Done  28 tasks      | elapsed:    0.0s\n",
      "[Parallel(n_jobs=4)]: Done  29 tasks      | elapsed:    0.0s\n",
      "[Parallel(n_jobs=4)]: Done  30 tasks      | elapsed:    0.0s\n",
      "[Parallel(n_jobs=4)]: Done  31 tasks      | elapsed:    0.0s\n",
      "[Parallel(n_jobs=4)]: Done  32 tasks      | elapsed:    0.0s\n",
      "[Parallel(n_jobs=4)]: Done  33 tasks      | elapsed:    0.0s\n",
      "[Parallel(n_jobs=4)]: Done  34 tasks      | elapsed:    0.0s\n",
      "[Parallel(n_jobs=4)]: Done  35 tasks      | elapsed:    0.0s\n",
      "[Parallel(n_jobs=4)]: Done  36 tasks      | elapsed:    0.0s\n",
      "[Parallel(n_jobs=4)]: Done  37 tasks      | elapsed:    0.0s\n",
      "[Parallel(n_jobs=4)]: Done  38 tasks      | elapsed:    0.0s\n",
      "[Parallel(n_jobs=4)]: Done  39 tasks      | elapsed:    0.0s\n",
      "[Parallel(n_jobs=4)]: Done  40 tasks      | elapsed:    0.0s\n",
      "[Parallel(n_jobs=4)]: Done  41 tasks      | elapsed:    0.0s\n",
      "[Parallel(n_jobs=4)]: Done  42 tasks      | elapsed:    0.0s\n",
      "[Parallel(n_jobs=4)]: Done  43 tasks      | elapsed:    0.0s\n",
      "[Parallel(n_jobs=4)]: Done  44 tasks      | elapsed:    0.0s\n",
      "[Parallel(n_jobs=4)]: Done  45 tasks      | elapsed:    0.0s\n",
      "[Parallel(n_jobs=4)]: Done  46 tasks      | elapsed:    0.0s\n",
      "[Parallel(n_jobs=4)]: Done  47 tasks      | elapsed:    0.0s\n",
      "[Parallel(n_jobs=4)]: Done  48 tasks      | elapsed:    0.0s\n",
      "[Parallel(n_jobs=4)]: Done  49 tasks      | elapsed:    0.0s\n",
      "[Parallel(n_jobs=4)]: Done  50 tasks      | elapsed:    0.0s\n",
      "[Parallel(n_jobs=4)]: Done  51 tasks      | elapsed:    0.0s\n",
      "[Parallel(n_jobs=4)]: Done  52 tasks      | elapsed:    0.0s\n",
      "[Parallel(n_jobs=4)]: Done  53 tasks      | elapsed:    0.0s\n",
      "[Parallel(n_jobs=4)]: Done  54 tasks      | elapsed:    0.0s\n",
      "[Parallel(n_jobs=4)]: Done  55 tasks      | elapsed:    0.0s\n",
      "[Parallel(n_jobs=4)]: Done  56 tasks      | elapsed:    0.0s\n",
      "[Parallel(n_jobs=4)]: Done  57 tasks      | elapsed:    0.0s\n",
      "[Parallel(n_jobs=4)]: Done  58 tasks      | elapsed:    0.1s\n",
      "[Parallel(n_jobs=4)]: Done  59 tasks      | elapsed:    0.1s\n",
      "[Parallel(n_jobs=4)]: Done  60 tasks      | elapsed:    0.1s\n",
      "[Parallel(n_jobs=4)]: Done  61 tasks      | elapsed:    0.1s\n",
      "[Parallel(n_jobs=4)]: Done  62 tasks      | elapsed:    0.1s\n",
      "[Parallel(n_jobs=4)]: Done  63 tasks      | elapsed:    0.1s\n",
      "[Parallel(n_jobs=4)]: Done  64 tasks      | elapsed:    0.1s\n",
      "[Parallel(n_jobs=4)]: Done  65 tasks      | elapsed:    0.1s\n",
      "[Parallel(n_jobs=4)]: Done  66 tasks      | elapsed:    0.1s\n",
      "[Parallel(n_jobs=4)]: Done  67 tasks      | elapsed:    0.1s\n",
      "[Parallel(n_jobs=4)]: Done  68 tasks      | elapsed:    0.1s\n",
      "[Parallel(n_jobs=4)]: Done  69 tasks      | elapsed:    0.1s\n",
      "[Parallel(n_jobs=4)]: Done  70 tasks      | elapsed:    0.1s\n",
      "[Parallel(n_jobs=4)]: Done  71 tasks      | elapsed:    0.1s\n",
      "[Parallel(n_jobs=4)]: Done  72 tasks      | elapsed:    0.1s\n",
      "[Parallel(n_jobs=4)]: Done  73 tasks      | elapsed:    0.1s\n",
      "[Parallel(n_jobs=4)]: Done  74 tasks      | elapsed:    0.1s\n",
      "[Parallel(n_jobs=4)]: Done  75 tasks      | elapsed:    0.1s\n",
      "[Parallel(n_jobs=4)]: Done  76 tasks      | elapsed:    0.1s\n",
      "[Parallel(n_jobs=4)]: Done  77 tasks      | elapsed:    0.1s\n",
      "[Parallel(n_jobs=4)]: Done  78 tasks      | elapsed:    0.1s\n",
      "[Parallel(n_jobs=4)]: Done  79 tasks      | elapsed:    0.1s\n",
      "[Parallel(n_jobs=4)]: Done  80 tasks      | elapsed:    0.1s\n",
      "[Parallel(n_jobs=4)]: Done  81 tasks      | elapsed:    0.1s\n",
      "[Parallel(n_jobs=4)]: Done  82 tasks      | elapsed:    0.1s\n",
      "[Parallel(n_jobs=4)]: Done  83 tasks      | elapsed:    0.1s\n",
      "[Parallel(n_jobs=4)]: Done  84 tasks      | elapsed:    0.1s\n",
      "[Parallel(n_jobs=4)]: Done  85 tasks      | elapsed:    0.1s\n",
      "[Parallel(n_jobs=4)]: Done  86 tasks      | elapsed:    0.1s\n",
      "[Parallel(n_jobs=4)]: Done  87 tasks      | elapsed:    0.1s\n",
      "[Parallel(n_jobs=4)]: Done  88 tasks      | elapsed:    0.1s\n",
      "[Parallel(n_jobs=4)]: Done  89 tasks      | elapsed:    0.1s\n",
      "[Parallel(n_jobs=4)]: Done  90 tasks      | elapsed:    0.1s\n",
      "[Parallel(n_jobs=4)]: Done  91 tasks      | elapsed:    0.1s\n",
      "[Parallel(n_jobs=4)]: Done  92 tasks      | elapsed:    0.1s\n",
      "[Parallel(n_jobs=4)]: Done  93 tasks      | elapsed:    0.1s\n",
      "[Parallel(n_jobs=4)]: Done  96 out of 100 | elapsed:    0.1s remaining:    0.0s\n",
      "[Parallel(n_jobs=4)]: Done 100 out of 100 | elapsed:    0.1s finished\n"
     ]
    },
    {
     "data": {
      "text/plain": [
       "<sklearn.metrics._plot.roc_curve.RocCurveDisplay at 0x7f9174e0ac10>"
      ]
     },
     "execution_count": 372,
     "metadata": {},
     "output_type": "execute_result"
    },
    {
     "data": {
      "image/png": "[encoded data removed]",
      "text/plain": [
       "<Figure size 432x288 with 1 Axes>"
      ]
     },
     "metadata": {
      "needs_background": "light"
     },
     "output_type": "display_data"
    }
   ],
   "source": [
    "from sklearn.metrics import plot_roc_curve\n",
    "\n",
    "plot_roc_curve(rf_clf,X_test_scaled,y_test)"
   ]
  },
  {
   "cell_type": "code",
   "execution_count": 343,
   "metadata": {},
   "outputs": [
    {
     "name": "stdout",
     "output_type": "stream",
     "text": [
      "[Parallel(n_jobs=4)]: Using backend ThreadingBackend with 4 concurrent workers.\n",
      "[Parallel(n_jobs=4)]: Done   1 tasks      | elapsed:    0.0s\n",
      "[Parallel(n_jobs=4)]: Done   2 tasks      | elapsed:    0.0s\n",
      "[Parallel(n_jobs=4)]: Done   3 tasks      | elapsed:    0.0s\n",
      "[Parallel(n_jobs=4)]: Done   4 tasks      | elapsed:    0.0s\n",
      "[Parallel(n_jobs=4)]: Done   5 tasks      | elapsed:    0.0s\n",
      "[Parallel(n_jobs=4)]: Done   6 tasks      | elapsed:    0.0s\n",
      "[Parallel(n_jobs=4)]: Done   7 tasks      | elapsed:    0.0s\n",
      "[Parallel(n_jobs=4)]: Done   8 tasks      | elapsed:    0.0s\n",
      "[Parallel(n_jobs=4)]: Done   9 tasks      | elapsed:    0.0s\n",
      "[Parallel(n_jobs=4)]: Done  10 tasks      | elapsed:    0.0s\n",
      "[Parallel(n_jobs=4)]: Done  11 tasks      | elapsed:    0.0s\n",
      "[Parallel(n_jobs=4)]: Done  12 tasks      | elapsed:    0.0s\n",
      "[Parallel(n_jobs=4)]: Done  13 tasks      | elapsed:    0.0s\n",
      "[Parallel(n_jobs=4)]: Done  14 tasks      | elapsed:    0.0s\n",
      "[Parallel(n_jobs=4)]: Done  15 tasks      | elapsed:    0.0s\n",
      "[Parallel(n_jobs=4)]: Done  16 tasks      | elapsed:    0.0s\n",
      "[Parallel(n_jobs=4)]: Done  17 tasks      | elapsed:    0.0s\n",
      "[Parallel(n_jobs=4)]: Done  18 tasks      | elapsed:    0.0s\n",
      "[Parallel(n_jobs=4)]: Done  19 tasks      | elapsed:    0.0s\n",
      "[Parallel(n_jobs=4)]: Done  20 tasks      | elapsed:    0.0s\n",
      "[Parallel(n_jobs=4)]: Done  21 tasks      | elapsed:    0.0s\n",
      "[Parallel(n_jobs=4)]: Done  22 tasks      | elapsed:    0.0s\n",
      "[Parallel(n_jobs=4)]: Done  23 tasks      | elapsed:    0.0s\n",
      "[Parallel(n_jobs=4)]: Done  24 tasks      | elapsed:    0.0s\n",
      "[Parallel(n_jobs=4)]: Done  25 tasks      | elapsed:    0.0s\n",
      "[Parallel(n_jobs=4)]: Done  26 tasks      | elapsed:    0.0s\n",
      "[Parallel(n_jobs=4)]: Done  27 tasks      | elapsed:    0.0s\n",
      "[Parallel(n_jobs=4)]: Done  28 tasks      | elapsed:    0.0s\n",
      "[Parallel(n_jobs=4)]: Done  29 tasks      | elapsed:    0.0s\n",
      "[Parallel(n_jobs=4)]: Done  30 tasks      | elapsed:    0.0s\n",
      "[Parallel(n_jobs=4)]: Done  31 tasks      | elapsed:    0.0s\n",
      "[Parallel(n_jobs=4)]: Done  32 tasks      | elapsed:    0.0s\n",
      "[Parallel(n_jobs=4)]: Done  33 tasks      | elapsed:    0.0s\n",
      "[Parallel(n_jobs=4)]: Done  34 tasks      | elapsed:    0.0s\n",
      "[Parallel(n_jobs=4)]: Done  35 tasks      | elapsed:    0.0s\n",
      "[Parallel(n_jobs=4)]: Done  36 tasks      | elapsed:    0.0s\n",
      "[Parallel(n_jobs=4)]: Done  37 tasks      | elapsed:    0.0s\n",
      "[Parallel(n_jobs=4)]: Done  38 tasks      | elapsed:    0.0s\n",
      "[Parallel(n_jobs=4)]: Done  39 tasks      | elapsed:    0.0s\n",
      "[Parallel(n_jobs=4)]: Done  40 tasks      | elapsed:    0.0s\n",
      "[Parallel(n_jobs=4)]: Done  41 tasks      | elapsed:    0.0s\n",
      "[Parallel(n_jobs=4)]: Done  42 tasks      | elapsed:    0.0s\n",
      "[Parallel(n_jobs=4)]: Done  43 tasks      | elapsed:    0.0s\n",
      "[Parallel(n_jobs=4)]: Done  44 tasks      | elapsed:    0.0s\n",
      "[Parallel(n_jobs=4)]: Done  45 tasks      | elapsed:    0.0s\n",
      "[Parallel(n_jobs=4)]: Done  46 tasks      | elapsed:    0.0s\n",
      "[Parallel(n_jobs=4)]: Done  47 tasks      | elapsed:    0.0s\n",
      "[Parallel(n_jobs=4)]: Done  48 tasks      | elapsed:    0.0s\n",
      "[Parallel(n_jobs=4)]: Done  49 tasks      | elapsed:    0.0s\n",
      "[Parallel(n_jobs=4)]: Done  50 tasks      | elapsed:    0.0s\n",
      "[Parallel(n_jobs=4)]: Done  51 tasks      | elapsed:    0.0s\n",
      "[Parallel(n_jobs=4)]: Done  52 tasks      | elapsed:    0.0s\n",
      "[Parallel(n_jobs=4)]: Done  53 tasks      | elapsed:    0.0s\n",
      "[Parallel(n_jobs=4)]: Done  54 tasks      | elapsed:    0.0s\n",
      "[Parallel(n_jobs=4)]: Done  55 tasks      | elapsed:    0.0s\n",
      "[Parallel(n_jobs=4)]: Done  56 tasks      | elapsed:    0.0s\n",
      "[Parallel(n_jobs=4)]: Done  57 tasks      | elapsed:    0.0s\n",
      "[Parallel(n_jobs=4)]: Done  58 tasks      | elapsed:    0.0s\n",
      "[Parallel(n_jobs=4)]: Done  59 tasks      | elapsed:    0.0s\n",
      "[Parallel(n_jobs=4)]: Done  60 tasks      | elapsed:    0.1s\n",
      "[Parallel(n_jobs=4)]: Done  61 tasks      | elapsed:    0.1s\n",
      "[Parallel(n_jobs=4)]: Done  62 tasks      | elapsed:    0.1s\n",
      "[Parallel(n_jobs=4)]: Done  63 tasks      | elapsed:    0.1s\n",
      "[Parallel(n_jobs=4)]: Done  64 tasks      | elapsed:    0.1s\n",
      "[Parallel(n_jobs=4)]: Done  65 tasks      | elapsed:    0.1s\n",
      "[Parallel(n_jobs=4)]: Done  66 tasks      | elapsed:    0.1s\n",
      "[Parallel(n_jobs=4)]: Done  67 tasks      | elapsed:    0.1s\n",
      "[Parallel(n_jobs=4)]: Done  68 tasks      | elapsed:    0.1s\n",
      "[Parallel(n_jobs=4)]: Done  69 tasks      | elapsed:    0.1s\n",
      "[Parallel(n_jobs=4)]: Done  70 tasks      | elapsed:    0.1s\n",
      "[Parallel(n_jobs=4)]: Done  71 tasks      | elapsed:    0.1s\n",
      "[Parallel(n_jobs=4)]: Done  72 tasks      | elapsed:    0.1s\n",
      "[Parallel(n_jobs=4)]: Done  73 tasks      | elapsed:    0.1s\n",
      "[Parallel(n_jobs=4)]: Done  74 tasks      | elapsed:    0.1s\n",
      "[Parallel(n_jobs=4)]: Done  75 tasks      | elapsed:    0.1s\n",
      "[Parallel(n_jobs=4)]: Done  76 tasks      | elapsed:    0.1s\n",
      "[Parallel(n_jobs=4)]: Done  77 tasks      | elapsed:    0.1s\n",
      "[Parallel(n_jobs=4)]: Done  78 tasks      | elapsed:    0.1s\n",
      "[Parallel(n_jobs=4)]: Done  79 tasks      | elapsed:    0.1s\n",
      "[Parallel(n_jobs=4)]: Done  80 tasks      | elapsed:    0.1s\n",
      "[Parallel(n_jobs=4)]: Done  81 tasks      | elapsed:    0.1s\n",
      "[Parallel(n_jobs=4)]: Done  82 tasks      | elapsed:    0.1s\n",
      "[Parallel(n_jobs=4)]: Done  83 tasks      | elapsed:    0.1s\n",
      "[Parallel(n_jobs=4)]: Done  84 tasks      | elapsed:    0.1s\n",
      "[Parallel(n_jobs=4)]: Done  85 tasks      | elapsed:    0.1s\n",
      "[Parallel(n_jobs=4)]: Done  86 tasks      | elapsed:    0.1s\n",
      "[Parallel(n_jobs=4)]: Done  87 tasks      | elapsed:    0.1s\n",
      "[Parallel(n_jobs=4)]: Done  88 tasks      | elapsed:    0.1s\n",
      "[Parallel(n_jobs=4)]: Done  89 tasks      | elapsed:    0.1s\n",
      "[Parallel(n_jobs=4)]: Done  90 tasks      | elapsed:    0.1s\n",
      "[Parallel(n_jobs=4)]: Done  91 tasks      | elapsed:    0.1s\n",
      "[Parallel(n_jobs=4)]: Done  92 tasks      | elapsed:    0.1s\n",
      "[Parallel(n_jobs=4)]: Done  93 tasks      | elapsed:    0.1s\n",
      "[Parallel(n_jobs=4)]: Done  96 out of 100 | elapsed:    0.1s remaining:    0.0s\n",
      "[Parallel(n_jobs=4)]: Done 100 out of 100 | elapsed:    0.1s finished\n"
     ]
    },
    {
     "data": {
      "text/plain": [
       "<sklearn.metrics._plot.confusion_matrix.ConfusionMatrixDisplay at 0x7f914c62ac90>"
      ]
     },
     "execution_count": 343,
     "metadata": {},
     "output_type": "execute_result"
    },
    {
     "data": {
      "image/png": "[encoded data removed]",
      "text/plain": [
       "<Figure size 432x288 with 2 Axes>"
      ]
     },
     "metadata": {
      "needs_background": "light"
     },
     "output_type": "display_data"
    }
   ],
   "source": [
    "plot_confusion_matrix(rf_clf,\n",
    "                     X_test_scaled,\n",
    "                     y_test)"
   ]
  },
  {
   "cell_type": "markdown",
   "metadata": {},
   "source": [
    "# ADABOOST Classifier"
   ]
  },
  {
   "cell_type": "code",
   "execution_count": 344,
   "metadata": {},
   "outputs": [],
   "source": [
    "from sklearn.ensemble import AdaBoostClassifier\n",
    "ada_clf = AdaBoostClassifier(random_state=8,\n",
    "                             algorithm='SAMME.R',\n",
    "                             learning_rate=0.05,\n",
    "                             n_estimators=100)"
   ]
  },
  {
   "cell_type": "code",
   "execution_count": 345,
   "metadata": {},
   "outputs": [
    {
     "data": {
      "text/plain": [
       "AdaBoostClassifier(learning_rate=0.05, n_estimators=100, random_state=8)"
      ]
     },
     "execution_count": 345,
     "metadata": {},
     "output_type": "execute_result"
    }
   ],
   "source": [
    "ada_clf.fit(X_train_scaled, y_train)"
   ]
  },
  {
   "cell_type": "code",
   "execution_count": 346,
   "metadata": {},
   "outputs": [],
   "source": [
    "ada_y_pred = ada_clf.predict(X_test)"
   ]
  },
  {
   "cell_type": "code",
   "execution_count": 347,
   "metadata": {},
   "outputs": [
    {
     "data": {
      "image/png": "[encoded data removed]",
      "text/plain": [
       "<Figure size 1080x288 with 1 Axes>"
      ]
     },
     "metadata": {
      "needs_background": "light"
     },
     "output_type": "display_data"
    }
   ],
   "source": [
    "tmp = pd.DataFrame({'Feature': X_encoded.columns, 'Feature importance': ada_clf.feature_importances_})\n",
    "tmp = tmp.sort_values(by='Feature importance',ascending=False)\n",
    "plt.figure(figsize = (15,4))\n",
    "plt.title('Features importance',fontsize=14)\n",
    "s = sns.barplot(x='Feature',y='Feature importance',data=tmp)\n",
    "s.set_xticklabels(s.get_xticklabels(),rotation=90)\n",
    "plt.show()  "
   ]
  },
  {
   "cell_type": "code",
   "execution_count": 348,
   "metadata": {},
   "outputs": [
    {
     "data": {
      "text/plain": [
       "<sklearn.metrics._plot.confusion_matrix.ConfusionMatrixDisplay at 0x7f91755e8fd0>"
      ]
     },
     "execution_count": 348,
     "metadata": {},
     "output_type": "execute_result"
    },
    {
     "data": {
      "image/png": "[encoded data removed]",
      "text/plain": [
       "<Figure size 432x288 with 2 Axes>"
      ]
     },
     "metadata": {
      "needs_background": "light"
     },
     "output_type": "display_data"
    }
   ],
   "source": [
    "plot_confusion_matrix(ada_clf,\n",
    "                     X_test_scaled,\n",
    "                     y_test)"
   ]
  },
  {
   "cell_type": "code",
   "execution_count": 349,
   "metadata": {},
   "outputs": [],
   "source": [
    "accuracy = metrics.accuracy_score(y_test,ada_y_pred)"
   ]
  },
  {
   "cell_type": "code",
   "execution_count": 350,
   "metadata": {},
   "outputs": [
    {
     "data": {
      "text/plain": [
       "0.664"
      ]
     },
     "execution_count": 350,
     "metadata": {},
     "output_type": "execute_result"
    }
   ],
   "source": [
    "accuracy"
   ]
  },
  {
   "cell_type": "code",
   "execution_count": 351,
   "metadata": {},
   "outputs": [
    {
     "data": {
      "text/plain": [
       "<sklearn.metrics._plot.roc_curve.RocCurveDisplay at 0x7f917518f550>"
      ]
     },
     "execution_count": 351,
     "metadata": {},
     "output_type": "execute_result"
    },
    {
     "data": {
      "image/png": "[encoded data removed]",
      "text/plain": [
       "<Figure size 432x288 with 1 Axes>"
      ]
     },
     "metadata": {
      "needs_background": "light"
     },
     "output_type": "display_data"
    }
   ],
   "source": [
    "from sklearn.metrics import plot_roc_curve\n",
    "\n",
    "plot_roc_curve(ada_clf,X_test_scaled,y_test)"
   ]
  },
  {
   "cell_type": "markdown",
   "metadata": {},
   "source": [
    "# XGBOOST Classifier"
   ]
  },
  {
   "cell_type": "code",
   "execution_count": 352,
   "metadata": {},
   "outputs": [],
   "source": [
    "from xgboost import XGBClassifier\n",
    "\n",
    "params = {}\n",
    "params['objective'] = 'binary:logistic'\n",
    "params['eta'] = 0.04\n",
    "params['silent'] = True\n",
    "params['max_depth'] = 2\n",
    "params['subsample'] = 0.8\n",
    "params['colsample_bytree'] = 0.9\n",
    "params['eval_metrics'] = 'auc'\n",
    "params['random_state'] = 8\n",
    "\n",
    "xgb_clf = XGBClassifier(**params)"
   ]
  },
  {
   "cell_type": "code",
   "execution_count": 353,
   "metadata": {},
   "outputs": [
    {
     "name": "stderr",
     "output_type": "stream",
     "text": [
      "/opt/conda/lib/python3.7/site-packages/xgboost/sklearn.py:888: UserWarning: The use of label encoder in XGBClassifier is deprecated and will be removed in a future release. To remove this warning, do the following: 1) Pass option use_label_encoder=False when constructing XGBClassifier object; and 2) Encode your labels (y) as integers starting with 0, i.e. 0, 1, 2, ..., [num_class - 1].\n",
      "  warnings.warn(label_encoder_deprecation_msg, UserWarning)\n"
     ]
    },
    {
     "name": "stdout",
     "output_type": "stream",
     "text": [
      "[12:23:26] WARNING: ../src/learner.cc:541: \n",
      "Parameters: { eval_metrics, silent } might not be used.\n",
      "\n",
      "  This may not be accurate due to some parameters are only used in language bindings but\n",
      "  passed down to XGBoost core.  Or some parameters are not used but slip through this\n",
      "  verification. Please open an issue if you find above cases.\n",
      "\n",
      "\n",
      "[12:23:26] WARNING: ../src/learner.cc:1061: Starting in XGBoost 1.3.0, the default evaluation metric used with the objective 'binary:logistic' was changed from 'error' to 'logloss'. Explicitly set eval_metric if you'd like to restore the old behavior.\n"
     ]
    },
    {
     "data": {
      "text/plain": [
       "XGBClassifier(base_score=0.5, booster='gbtree', colsample_bylevel=1,\n",
       "              colsample_bynode=1, colsample_bytree=0.9, eta=0.04,\n",
       "              eval_metrics='auc', gamma=0, gpu_id=-1, importance_type='gain',\n",
       "              interaction_constraints='', learning_rate=0.0399999991,\n",
       "              max_delta_step=0, max_depth=2, min_child_weight=1, missing=nan,\n",
       "              monotone_constraints='()', n_estimators=100, n_jobs=4,\n",
       "              num_parallel_tree=1, random_state=8, reg_alpha=0, reg_lambda=1,\n",
       "              scale_pos_weight=1, silent=True, subsample=0.8,\n",
       "              tree_method='exact', validate_parameters=1, verbosity=None)"
      ]
     },
     "execution_count": 353,
     "metadata": {},
     "output_type": "execute_result"
    }
   ],
   "source": [
    "xgb_clf.fit(X_train_scaled, y_train)"
   ]
  },
  {
   "cell_type": "code",
   "execution_count": 354,
   "metadata": {},
   "outputs": [],
   "source": [
    "xgb_y_pred = xgb_clf.predict(X_test_scaled)"
   ]
  },
  {
   "cell_type": "code",
   "execution_count": 355,
   "metadata": {},
   "outputs": [
    {
     "data": {
      "text/plain": [
       "array([0, 0, 0, ..., 1, 1, 1])"
      ]
     },
     "execution_count": 355,
     "metadata": {},
     "output_type": "execute_result"
    }
   ],
   "source": [
    "xgb_y_pred"
   ]
  },
  {
   "cell_type": "code",
   "execution_count": 356,
   "metadata": {},
   "outputs": [],
   "source": [
    "accuracy = metrics.accuracy_score(y_test,xgb_y_pred)"
   ]
  },
  {
   "cell_type": "code",
   "execution_count": 357,
   "metadata": {},
   "outputs": [
    {
     "data": {
      "text/plain": [
       "0.7203333333333334"
      ]
     },
     "execution_count": 357,
     "metadata": {},
     "output_type": "execute_result"
    }
   ],
   "source": [
    "accuracy"
   ]
  },
  {
   "cell_type": "code",
   "execution_count": 358,
   "metadata": {},
   "outputs": [
    {
     "data": {
      "text/plain": [
       "<sklearn.metrics._plot.roc_curve.RocCurveDisplay at 0x7f91755185d0>"
      ]
     },
     "execution_count": 358,
     "metadata": {},
     "output_type": "execute_result"
    },
    {
     "data": {
      "image/png": "[encoded data removed]",
      "text/plain": [
       "<Figure size 432x288 with 1 Axes>"
      ]
     },
     "metadata": {
      "needs_background": "light"
     },
     "output_type": "display_data"
    }
   ],
   "source": [
    "from sklearn.metrics import plot_roc_curve\n",
    "\n",
    "plot_roc_curve(xgb_clf,X_test_scaled,y_test)"
   ]
  },
  {
   "cell_type": "markdown",
   "metadata": {},
   "source": [
    "# Let's try xgb with hyperparameter tuning"
   ]
  },
  {
   "cell_type": "code",
   "execution_count": 359,
   "metadata": {},
   "outputs": [],
   "source": [
    "hparams = {}\n",
    "hparams['min_child_weight'] = [1,3,5,7,10]\n",
    "hparams['gamma'] = [0.1,0.5,1,1.5,2,5]\n",
    "hparams['subsample'] = [0.3,0.6,0.8,1.0]\n",
    "hparams['colsample_bytree'] = [0.2,0.4,0.6,0.8,1.0]\n",
    "hparams['max_depth'] = [3,4,5,6]\n",
    "hparams['learning_rate'] = [0.01, 0.02, 0.1, 0.5]\n",
    "hparams['n_estimators'] = [100,200,400,500,600]"
   ]
  },
  {
   "cell_type": "code",
   "execution_count": 360,
   "metadata": {},
   "outputs": [],
   "source": [
    "xgb_hp_clf = XGBClassifier(objective='binary:logistic',silent=True,nthread=1)"
   ]
  },
  {
   "cell_type": "code",
   "execution_count": 361,
   "metadata": {},
   "outputs": [],
   "source": [
    "from sklearn.model_selection import RandomizedSearchCV"
   ]
  },
  {
   "cell_type": "code",
   "execution_count": 362,
   "metadata": {},
   "outputs": [],
   "source": [
    "random_search = RandomizedSearchCV(xgb_hp_clf, param_distributions=hparams, n_iter=5, scoring='roc_auc',n_jobs=4, verbose=3, random_state=8)"
   ]
  },
  {
   "cell_type": "code",
   "execution_count": 363,
   "metadata": {},
   "outputs": [
    {
     "name": "stdout",
     "output_type": "stream",
     "text": [
      "Fitting 5 folds for each of 5 candidates, totalling 25 fits\n"
     ]
    },
    {
     "name": "stderr",
     "output_type": "stream",
     "text": [
      "/opt/conda/lib/python3.7/site-packages/xgboost/sklearn.py:888: UserWarning: The use of label encoder in XGBClassifier is deprecated and will be removed in a future release. To remove this warning, do the following: 1) Pass option use_label_encoder=False when constructing XGBClassifier object; and 2) Encode your labels (y) as integers starting with 0, i.e. 0, 1, 2, ..., [num_class - 1].\n",
      "  warnings.warn(label_encoder_deprecation_msg, UserWarning)\n"
     ]
    },
    {
     "name": "stdout",
     "output_type": "stream",
     "text": [
      "[12:24:10] WARNING: ../src/learner.cc:541: \n",
      "Parameters: { silent } might not be used.\n",
      "\n",
      "  This may not be accurate due to some parameters are only used in language bindings but\n",
      "  passed down to XGBoost core.  Or some parameters are not used but slip through this\n",
      "  verification. Please open an issue if you find above cases.\n",
      "\n",
      "\n",
      "[12:24:11] WARNING: ../src/learner.cc:1061: Starting in XGBoost 1.3.0, the default evaluation metric used with the objective 'binary:logistic' was changed from 'error' to 'logloss'. Explicitly set eval_metric if you'd like to restore the old behavior.\n"
     ]
    },
    {
     "data": {
      "text/plain": [
       "RandomizedSearchCV(estimator=XGBClassifier(base_score=None, booster=None,\n",
       "                                           colsample_bylevel=None,\n",
       "                                           colsample_bynode=None,\n",
       "                                           colsample_bytree=None, gamma=None,\n",
       "                                           gpu_id=None, importance_type='gain',\n",
       "                                           interaction_constraints=None,\n",
       "                                           learning_rate=None,\n",
       "                                           max_delta_step=None, max_depth=None,\n",
       "                                           min_child_weight=None, missing=nan,\n",
       "                                           monotone_constraints=None,\n",
       "                                           n_estimators=100, n_job...\n",
       "                                           validate_parameters=None,\n",
       "                                           verbosity=None),\n",
       "                   n_iter=5, n_jobs=4,\n",
       "                   param_distributions={'colsample_bytree': [0.2, 0.4, 0.6, 0.8,\n",
       "                                                             1.0],\n",
       "                                        'gamma': [0.1, 0.5, 1, 1.5, 2, 5],\n",
       "                                        'learning_rate': [0.01, 0.02, 0.1, 0.5],\n",
       "                                        'max_depth': [3, 4, 5, 6],\n",
       "                                        'min_child_weight': [1, 3, 5, 7, 10],\n",
       "                                        'n_estimators': [100, 200, 400, 500,\n",
       "                                                         600],\n",
       "                                        'subsample': [0.3, 0.6, 0.8, 1.0]},\n",
       "                   random_state=8, scoring='roc_auc', verbose=3)"
      ]
     },
     "execution_count": 363,
     "metadata": {},
     "output_type": "execute_result"
    }
   ],
   "source": [
    "random_search.fit(X_train_scaled, y_train)"
   ]
  },
  {
   "cell_type": "code",
   "execution_count": 364,
   "metadata": {},
   "outputs": [
    {
     "data": {
      "text/plain": [
       "XGBClassifier(base_score=0.5, booster='gbtree', colsample_bylevel=1,\n",
       "              colsample_bynode=1, colsample_bytree=0.6, gamma=2, gpu_id=-1,\n",
       "              importance_type='gain', interaction_constraints='',\n",
       "              learning_rate=0.01, max_delta_step=0, max_depth=6,\n",
       "              min_child_weight=5, missing=nan, monotone_constraints='()',\n",
       "              n_estimators=100, n_jobs=1, nthread=1, num_parallel_tree=1,\n",
       "              random_state=0, reg_alpha=0, reg_lambda=1, scale_pos_weight=1,\n",
       "              silent=True, subsample=0.3, tree_method='exact',\n",
       "              validate_parameters=1, verbosity=None)"
      ]
     },
     "execution_count": 364,
     "metadata": {},
     "output_type": "execute_result"
    }
   ],
   "source": [
    "random_search.best_estimator_"
   ]
  },
  {
   "cell_type": "code",
   "execution_count": 365,
   "metadata": {},
   "outputs": [
    {
     "data": {
      "text/plain": [
       "{'subsample': 0.3,\n",
       " 'n_estimators': 100,\n",
       " 'min_child_weight': 5,\n",
       " 'max_depth': 6,\n",
       " 'learning_rate': 0.01,\n",
       " 'gamma': 2,\n",
       " 'colsample_bytree': 0.6}"
      ]
     },
     "execution_count": 365,
     "metadata": {},
     "output_type": "execute_result"
    }
   ],
   "source": [
    "random_search.best_params_"
   ]
  },
  {
   "cell_type": "code",
   "execution_count": 366,
   "metadata": {},
   "outputs": [],
   "source": [
    "from numpy import nan"
   ]
  },
  {
   "cell_type": "code",
   "execution_count": 367,
   "metadata": {},
   "outputs": [],
   "source": [
    "final_xgb_clf = XGBClassifier(base_score=0.5, booster='gbtree', colsample_bylevel=1,\n",
    "              colsample_bynode=1, colsample_bytree=0.6, gamma=2, gpu_id=-1,\n",
    "              importance_type='gain', interaction_constraints='',\n",
    "              learning_rate=0.01, max_delta_step=0, max_depth=6,\n",
    "              min_child_weight=5, missing=nan, monotone_constraints='()',\n",
    "              n_estimators=100, n_jobs=1, nthread=1, num_parallel_tree=1,\n",
    "              random_state=0, reg_alpha=0, reg_lambda=1, scale_pos_weight=1,\n",
    "              silent=True, subsample=0.3, tree_method='exact',\n",
    "              validate_parameters=1, verbosity=None)"
   ]
  },
  {
   "cell_type": "code",
   "execution_count": 368,
   "metadata": {},
   "outputs": [
    {
     "name": "stdout",
     "output_type": "stream",
     "text": [
      "[12:24:12] WARNING: ../src/learner.cc:541: \n",
      "Parameters: { silent } might not be used.\n",
      "\n",
      "  This may not be accurate due to some parameters are only used in language bindings but\n",
      "  passed down to XGBoost core.  Or some parameters are not used but slip through this\n",
      "  verification. Please open an issue if you find above cases.\n",
      "\n",
      "\n",
      "[12:24:12] WARNING: ../src/learner.cc:1061: Starting in XGBoost 1.3.0, the default evaluation metric used with the objective 'binary:logistic' was changed from 'error' to 'logloss'. Explicitly set eval_metric if you'd like to restore the old behavior.\n"
     ]
    },
    {
     "data": {
      "text/plain": [
       "XGBClassifier(base_score=0.5, booster='gbtree', colsample_bylevel=1,\n",
       "              colsample_bynode=1, colsample_bytree=0.6, gamma=2, gpu_id=-1,\n",
       "              importance_type='gain', interaction_constraints='',\n",
       "              learning_rate=0.01, max_delta_step=0, max_depth=6,\n",
       "              min_child_weight=5, missing=nan, monotone_constraints='()',\n",
       "              n_estimators=100, n_jobs=1, nthread=1, num_parallel_tree=1,\n",
       "              random_state=0, reg_alpha=0, reg_lambda=1, scale_pos_weight=1,\n",
       "              silent=True, subsample=0.3, tree_method='exact',\n",
       "              validate_parameters=1, verbosity=None)"
      ]
     },
     "execution_count": 368,
     "metadata": {},
     "output_type": "execute_result"
    }
   ],
   "source": [
    "final_xgb_clf.fit(X_train_scaled, y_train)"
   ]
  },
  {
   "cell_type": "code",
   "execution_count": 369,
   "metadata": {},
   "outputs": [
    {
     "name": "stderr",
     "output_type": "stream",
     "text": [
      "/opt/conda/lib/python3.7/site-packages/xgboost/sklearn.py:888: UserWarning: The use of label encoder in XGBClassifier is deprecated and will be removed in a future release. To remove this warning, do the following: 1) Pass option use_label_encoder=False when constructing XGBClassifier object; and 2) Encode your labels (y) as integers starting with 0, i.e. 0, 1, 2, ..., [num_class - 1].\n",
      "  warnings.warn(label_encoder_deprecation_msg, UserWarning)\n"
     ]
    },
    {
     "name": "stdout",
     "output_type": "stream",
     "text": [
      "[12:24:14] WARNING: ../src/learner.cc:541: \n",
      "Parameters: { silent } might not be used.\n",
      "\n",
      "  This may not be accurate due to some parameters are only used in language bindings but\n",
      "  passed down to XGBoost core.  Or some parameters are not used but slip through this\n",
      "  verification. Please open an issue if you find above cases.\n",
      "\n",
      "\n",
      "[12:24:14] WARNING: ../src/learner.cc:1061: Starting in XGBoost 1.3.0, the default evaluation metric used with the objective 'binary:logistic' was changed from 'error' to 'logloss'. Explicitly set eval_metric if you'd like to restore the old behavior.\n"
     ]
    },
    {
     "name": "stderr",
     "output_type": "stream",
     "text": [
      "/opt/conda/lib/python3.7/site-packages/xgboost/sklearn.py:888: UserWarning: The use of label encoder in XGBClassifier is deprecated and will be removed in a future release. To remove this warning, do the following: 1) Pass option use_label_encoder=False when constructing XGBClassifier object; and 2) Encode your labels (y) as integers starting with 0, i.e. 0, 1, 2, ..., [num_class - 1].\n",
      "  warnings.warn(label_encoder_deprecation_msg, UserWarning)\n"
     ]
    },
    {
     "name": "stdout",
     "output_type": "stream",
     "text": [
      "[12:24:15] WARNING: ../src/learner.cc:541: \n",
      "Parameters: { silent } might not be used.\n",
      "\n",
      "  This may not be accurate due to some parameters are only used in language bindings but\n",
      "  passed down to XGBoost core.  Or some parameters are not used but slip through this\n",
      "  verification. Please open an issue if you find above cases.\n",
      "\n",
      "\n",
      "[12:24:15] WARNING: ../src/learner.cc:1061: Starting in XGBoost 1.3.0, the default evaluation metric used with the objective 'binary:logistic' was changed from 'error' to 'logloss'. Explicitly set eval_metric if you'd like to restore the old behavior.\n"
     ]
    },
    {
     "name": "stderr",
     "output_type": "stream",
     "text": [
      "/opt/conda/lib/python3.7/site-packages/xgboost/sklearn.py:888: UserWarning: The use of label encoder in XGBClassifier is deprecated and will be removed in a future release. To remove this warning, do the following: 1) Pass option use_label_encoder=False when constructing XGBClassifier object; and 2) Encode your labels (y) as integers starting with 0, i.e. 0, 1, 2, ..., [num_class - 1].\n",
      "  warnings.warn(label_encoder_deprecation_msg, UserWarning)\n"
     ]
    },
    {
     "name": "stdout",
     "output_type": "stream",
     "text": [
      "[12:24:16] WARNING: ../src/learner.cc:541: \n",
      "Parameters: { silent } might not be used.\n",
      "\n",
      "  This may not be accurate due to some parameters are only used in language bindings but\n",
      "  passed down to XGBoost core.  Or some parameters are not used but slip through this\n",
      "  verification. Please open an issue if you find above cases.\n",
      "\n",
      "\n",
      "[12:24:16] WARNING: ../src/learner.cc:1061: Starting in XGBoost 1.3.0, the default evaluation metric used with the objective 'binary:logistic' was changed from 'error' to 'logloss'. Explicitly set eval_metric if you'd like to restore the old behavior.\n"
     ]
    },
    {
     "name": "stderr",
     "output_type": "stream",
     "text": [
      "/opt/conda/lib/python3.7/site-packages/xgboost/sklearn.py:888: UserWarning: The use of label encoder in XGBClassifier is deprecated and will be removed in a future release. To remove this warning, do the following: 1) Pass option use_label_encoder=False when constructing XGBClassifier object; and 2) Encode your labels (y) as integers starting with 0, i.e. 0, 1, 2, ..., [num_class - 1].\n",
      "  warnings.warn(label_encoder_deprecation_msg, UserWarning)\n"
     ]
    },
    {
     "name": "stdout",
     "output_type": "stream",
     "text": [
      "[12:24:17] WARNING: ../src/learner.cc:541: \n",
      "Parameters: { silent } might not be used.\n",
      "\n",
      "  This may not be accurate due to some parameters are only used in language bindings but\n",
      "  passed down to XGBoost core.  Or some parameters are not used but slip through this\n",
      "  verification. Please open an issue if you find above cases.\n",
      "\n",
      "\n",
      "[12:24:17] WARNING: ../src/learner.cc:1061: Starting in XGBoost 1.3.0, the default evaluation metric used with the objective 'binary:logistic' was changed from 'error' to 'logloss'. Explicitly set eval_metric if you'd like to restore the old behavior.\n"
     ]
    },
    {
     "name": "stderr",
     "output_type": "stream",
     "text": [
      "/opt/conda/lib/python3.7/site-packages/xgboost/sklearn.py:888: UserWarning: The use of label encoder in XGBClassifier is deprecated and will be removed in a future release. To remove this warning, do the following: 1) Pass option use_label_encoder=False when constructing XGBClassifier object; and 2) Encode your labels (y) as integers starting with 0, i.e. 0, 1, 2, ..., [num_class - 1].\n",
      "  warnings.warn(label_encoder_deprecation_msg, UserWarning)\n"
     ]
    },
    {
     "name": "stdout",
     "output_type": "stream",
     "text": [
      "[12:24:17] WARNING: ../src/learner.cc:541: \n",
      "Parameters: { silent } might not be used.\n",
      "\n",
      "  This may not be accurate due to some parameters are only used in language bindings but\n",
      "  passed down to XGBoost core.  Or some parameters are not used but slip through this\n",
      "  verification. Please open an issue if you find above cases.\n",
      "\n",
      "\n",
      "[12:24:17] WARNING: ../src/learner.cc:1061: Starting in XGBoost 1.3.0, the default evaluation metric used with the objective 'binary:logistic' was changed from 'error' to 'logloss'. Explicitly set eval_metric if you'd like to restore the old behavior.\n"
     ]
    },
    {
     "name": "stderr",
     "output_type": "stream",
     "text": [
      "/opt/conda/lib/python3.7/site-packages/xgboost/sklearn.py:888: UserWarning: The use of label encoder in XGBClassifier is deprecated and will be removed in a future release. To remove this warning, do the following: 1) Pass option use_label_encoder=False when constructing XGBClassifier object; and 2) Encode your labels (y) as integers starting with 0, i.e. 0, 1, 2, ..., [num_class - 1].\n",
      "  warnings.warn(label_encoder_deprecation_msg, UserWarning)\n"
     ]
    },
    {
     "name": "stdout",
     "output_type": "stream",
     "text": [
      "[12:24:18] WARNING: ../src/learner.cc:541: \n",
      "Parameters: { silent } might not be used.\n",
      "\n",
      "  This may not be accurate due to some parameters are only used in language bindings but\n",
      "  passed down to XGBoost core.  Or some parameters are not used but slip through this\n",
      "  verification. Please open an issue if you find above cases.\n",
      "\n",
      "\n",
      "[12:24:18] WARNING: ../src/learner.cc:1061: Starting in XGBoost 1.3.0, the default evaluation metric used with the objective 'binary:logistic' was changed from 'error' to 'logloss'. Explicitly set eval_metric if you'd like to restore the old behavior.\n"
     ]
    },
    {
     "name": "stderr",
     "output_type": "stream",
     "text": [
      "/opt/conda/lib/python3.7/site-packages/xgboost/sklearn.py:888: UserWarning: The use of label encoder in XGBClassifier is deprecated and will be removed in a future release. To remove this warning, do the following: 1) Pass option use_label_encoder=False when constructing XGBClassifier object; and 2) Encode your labels (y) as integers starting with 0, i.e. 0, 1, 2, ..., [num_class - 1].\n",
      "  warnings.warn(label_encoder_deprecation_msg, UserWarning)\n"
     ]
    },
    {
     "name": "stdout",
     "output_type": "stream",
     "text": [
      "[12:24:19] WARNING: ../src/learner.cc:541: \n",
      "Parameters: { silent } might not be used.\n",
      "\n",
      "  This may not be accurate due to some parameters are only used in language bindings but\n",
      "  passed down to XGBoost core.  Or some parameters are not used but slip through this\n",
      "  verification. Please open an issue if you find above cases.\n",
      "\n",
      "\n",
      "[12:24:19] WARNING: ../src/learner.cc:1061: Starting in XGBoost 1.3.0, the default evaluation metric used with the objective 'binary:logistic' was changed from 'error' to 'logloss'. Explicitly set eval_metric if you'd like to restore the old behavior.\n"
     ]
    },
    {
     "name": "stderr",
     "output_type": "stream",
     "text": [
      "/opt/conda/lib/python3.7/site-packages/xgboost/sklearn.py:888: UserWarning: The use of label encoder in XGBClassifier is deprecated and will be removed in a future release. To remove this warning, do the following: 1) Pass option use_label_encoder=False when constructing XGBClassifier object; and 2) Encode your labels (y) as integers starting with 0, i.e. 0, 1, 2, ..., [num_class - 1].\n",
      "  warnings.warn(label_encoder_deprecation_msg, UserWarning)\n"
     ]
    },
    {
     "name": "stdout",
     "output_type": "stream",
     "text": [
      "[12:24:19] WARNING: ../src/learner.cc:541: \n",
      "Parameters: { silent } might not be used.\n",
      "\n",
      "  This may not be accurate due to some parameters are only used in language bindings but\n",
      "  passed down to XGBoost core.  Or some parameters are not used but slip through this\n",
      "  verification. Please open an issue if you find above cases.\n",
      "\n",
      "\n",
      "[12:24:19] WARNING: ../src/learner.cc:1061: Starting in XGBoost 1.3.0, the default evaluation metric used with the objective 'binary:logistic' was changed from 'error' to 'logloss'. Explicitly set eval_metric if you'd like to restore the old behavior.\n"
     ]
    },
    {
     "name": "stderr",
     "output_type": "stream",
     "text": [
      "/opt/conda/lib/python3.7/site-packages/xgboost/sklearn.py:888: UserWarning: The use of label encoder in XGBClassifier is deprecated and will be removed in a future release. To remove this warning, do the following: 1) Pass option use_label_encoder=False when constructing XGBClassifier object; and 2) Encode your labels (y) as integers starting with 0, i.e. 0, 1, 2, ..., [num_class - 1].\n",
      "  warnings.warn(label_encoder_deprecation_msg, UserWarning)\n"
     ]
    },
    {
     "name": "stdout",
     "output_type": "stream",
     "text": [
      "[12:24:20] WARNING: ../src/learner.cc:541: \n",
      "Parameters: { silent } might not be used.\n",
      "\n",
      "  This may not be accurate due to some parameters are only used in language bindings but\n",
      "  passed down to XGBoost core.  Or some parameters are not used but slip through this\n",
      "  verification. Please open an issue if you find above cases.\n",
      "\n",
      "\n",
      "[12:24:20] WARNING: ../src/learner.cc:1061: Starting in XGBoost 1.3.0, the default evaluation metric used with the objective 'binary:logistic' was changed from 'error' to 'logloss'. Explicitly set eval_metric if you'd like to restore the old behavior.\n"
     ]
    },
    {
     "name": "stderr",
     "output_type": "stream",
     "text": [
      "/opt/conda/lib/python3.7/site-packages/xgboost/sklearn.py:888: UserWarning: The use of label encoder in XGBClassifier is deprecated and will be removed in a future release. To remove this warning, do the following: 1) Pass option use_label_encoder=False when constructing XGBClassifier object; and 2) Encode your labels (y) as integers starting with 0, i.e. 0, 1, 2, ..., [num_class - 1].\n",
      "  warnings.warn(label_encoder_deprecation_msg, UserWarning)\n"
     ]
    },
    {
     "name": "stdout",
     "output_type": "stream",
     "text": [
      "[12:24:21] WARNING: ../src/learner.cc:541: \n",
      "Parameters: { silent } might not be used.\n",
      "\n",
      "  This may not be accurate due to some parameters are only used in language bindings but\n",
      "  passed down to XGBoost core.  Or some parameters are not used but slip through this\n",
      "  verification. Please open an issue if you find above cases.\n",
      "\n",
      "\n",
      "[12:24:21] WARNING: ../src/learner.cc:1061: Starting in XGBoost 1.3.0, the default evaluation metric used with the objective 'binary:logistic' was changed from 'error' to 'logloss'. Explicitly set eval_metric if you'd like to restore the old behavior.\n"
     ]
    }
   ],
   "source": [
    "from sklearn.model_selection import cross_val_score\n",
    "score = cross_val_score(final_xgb_clf, X_test_scaled, y_test, cv=10)"
   ]
  },
  {
   "cell_type": "code",
   "execution_count": 370,
   "metadata": {},
   "outputs": [
    {
     "data": {
      "text/plain": [
       "0.7246666666666666"
      ]
     },
     "execution_count": 370,
     "metadata": {},
     "output_type": "execute_result"
    }
   ],
   "source": [
    "score.mean()"
   ]
  },
  {
   "cell_type": "code",
   "execution_count": 371,
   "metadata": {},
   "outputs": [
    {
     "data": {
      "text/plain": [
       "<sklearn.metrics._plot.roc_curve.RocCurveDisplay at 0x7f91751e5e50>"
      ]
     },
     "execution_count": 371,
     "metadata": {},
     "output_type": "execute_result"
    },
    {
     "data": {
      "image/png": "[encoded data removed]",
      "text/plain": [
       "<Figure size 432x288 with 1 Axes>"
      ]
     },
     "metadata": {
      "needs_background": "light"
     },
     "output_type": "display_data"
    }
   ],
   "source": [
    "from sklearn.metrics import plot_roc_curve\n",
    "\n",
    "plot_roc_curve(final_xgb_clf,X_test_scaled,y_test)"
   ]
  },
  {
   "cell_type": "markdown",
   "metadata": {},
   "source": [
    "# CONCLUSION"
   ]
  },
  {
   "cell_type": "markdown",
   "metadata": {},
   "source": [
    "* We started with Support Vector Machine, for which we obtained an auc score of 0.77.\n",
    "* Next we used a RandomForestClassifier, with auc score of 0.79.\n",
    "* Next we used an AdaBoostClassifier model, with auc score of 0.78.\n",
    "* In last we used an XGBoost model and got auc score of 0.79. and after than done some HyperParameter tuning to see if there is any change/improvement in the auc score or not. after hyperparameter tuning we got auc score of 0.79."
   ]
  }
 ],
 "metadata": {
  "kernelspec": {
   "display_name": "Python 3",
   "language": "python",
   "name": "python3"
  },
  "language_info": {
   "codemirror_mode": {
    "name": "ipython",
    "version": 3
   },
   "file_extension": ".py",
   "mimetype": "text/x-python",
   "name": "python",
   "nbconvert_exporter": "python",
   "pygments_lexer": "ipython3",
   "version": "3.8.3"
  }
 },
 "nbformat": 4,
 "nbformat_minor": 4
}
